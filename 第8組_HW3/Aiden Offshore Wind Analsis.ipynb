{
 "cells": [
  {
   "cell_type": "markdown",
   "metadata": {},
   "source": [
    "## 1. 載入套件與資料"
   ]
  },
  {
   "cell_type": "code",
   "execution_count": 34,
   "metadata": {},
   "outputs": [],
   "source": [
    "import pandas as pd\n",
    "import jieba\n",
    "import jieba.analyse\n",
    "import re\n",
    "import numpy as np\n",
    "from collections import defaultdict\n",
    "import multiprocessing\n",
    "from gensim.models.phrases import Phrases, Phraser\n",
    "from gensim.models import Word2Vec, KeyedVectors\n",
    "import matplotlib.pyplot as plt\n",
    "from sklearn.decomposition import PCA\n",
    "from sklearn.manifold import TSNE\n",
    "import seaborn as sns\n",
    "import torch\n",
    "from sentence_transformers import SentenceTransformer, models, util\n",
    "sns.set_style(\"darkgrid\")"
   ]
  },
  {
   "cell_type": "markdown",
   "metadata": {},
   "source": []
  },
  {
   "cell_type": "code",
   "execution_count": 35,
   "metadata": {},
   "outputs": [],
   "source": [
    "# 設定繁體中文詞庫\n",
    "jieba.set_dictionary('./dict/dict.txt.big')\n",
    "\n",
    "# 新增stopwords\n",
    "with open('./dict/stopwords.txt',encoding=\"utf-8\") as f:\n",
    "    stopWords = [line.strip() for line in f.readlines()]"
   ]
  },
  {
   "cell_type": "code",
   "execution_count": 36,
   "metadata": {},
   "outputs": [],
   "source": [
    "# 斷詞函式\n",
    "def getToken(row):\n",
    "    seg_list = jieba.lcut(row)\n",
    "    seg_list = [w for w in seg_list if w not in stopWords and len(w)>1] # 篩選掉停用字與字元數小於1的詞彙\n",
    "\n",
    "    return seg_list"
   ]
  },
  {
   "cell_type": "code",
   "execution_count": 37,
   "metadata": {},
   "outputs": [
    {
     "data": {
      "text/html": [
       "<div>\n",
       "<style scoped>\n",
       "    .dataframe tbody tr th:only-of-type {\n",
       "        vertical-align: middle;\n",
       "    }\n",
       "\n",
       "    .dataframe tbody tr th {\n",
       "        vertical-align: top;\n",
       "    }\n",
       "\n",
       "    .dataframe thead th {\n",
       "        text-align: right;\n",
       "    }\n",
       "</style>\n",
       "<table border=\"1\" class=\"dataframe\">\n",
       "  <thead>\n",
       "    <tr style=\"text-align: right;\">\n",
       "      <th></th>\n",
       "      <th>system_id</th>\n",
       "      <th>artTitle</th>\n",
       "      <th>artDate</th>\n",
       "      <th>artCatagory</th>\n",
       "      <th>artSecondCatagory</th>\n",
       "      <th>artUrl</th>\n",
       "      <th>artContent</th>\n",
       "      <th>dataSource</th>\n",
       "    </tr>\n",
       "  </thead>\n",
       "  <tbody>\n",
       "    <tr>\n",
       "      <th>0</th>\n",
       "      <td>1</td>\n",
       "      <td>日圓一直貶值會怎樣？ 一張表曝光日本企業鮮為人知的營業利益貢獻</td>\n",
       "      <td>2023-06-29 15:20:00</td>\n",
       "      <td>產經</td>\n",
       "      <td>NaN</td>\n",
       "      <td>https://udn.com/news/story/121591/7265735</td>\n",
       "      <td>最近，筆者常被詢問，對於一檔即將募集的日本龍頭企業基金的看法？這些朋友大多有閒錢約幾十萬，又...</td>\n",
       "      <td>UDN</td>\n",
       "    </tr>\n",
       "    <tr>\n",
       "      <th>1</th>\n",
       "      <td>2</td>\n",
       "      <td>碳權交易所營運勢將再加速綠領人才需求 十年成長6.5倍</td>\n",
       "      <td>2023-08-07 11:42:00</td>\n",
       "      <td>產經</td>\n",
       "      <td>NaN</td>\n",
       "      <td>https://udn.com/news/story/123674/7351803</td>\n",
       "      <td>「台灣碳權交易所」今（7）日正式營運，加速帶動相關人才需求，「綠領新貴」勢將成為就業市場當紅...</td>\n",
       "      <td>UDN</td>\n",
       "    </tr>\n",
       "    <tr>\n",
       "      <th>2</th>\n",
       "      <td>3</td>\n",
       "      <td>台灣碳權交易所揭牌 蔡總統：整體創造5.9兆元產值</td>\n",
       "      <td>2023-08-07 14:27:00</td>\n",
       "      <td>產經</td>\n",
       "      <td>NaN</td>\n",
       "      <td>https://udn.com/news/story/123674/7352278</td>\n",
       "      <td>台灣碳權交易所今天正式揭牌，總統蔡英文說，從2023年到2030年，淨零碳排整體努力，預計帶...</td>\n",
       "      <td>UDN</td>\n",
       "    </tr>\n",
       "    <tr>\n",
       "      <th>3</th>\n",
       "      <td>4</td>\n",
       "      <td>台灣碳權交易所揭牌 蔡總統：持續協助企業面對淨零轉型</td>\n",
       "      <td>2023-08-07 15:29:00</td>\n",
       "      <td>產經</td>\n",
       "      <td>NaN</td>\n",
       "      <td>https://udn.com/news/story/123674/7352482</td>\n",
       "      <td>蔡總統今（7）日前往高雄出席「台灣碳權交易所開幕揭牌典禮」時指出，碳權交易所的設置，能讓台灣...</td>\n",
       "      <td>UDN</td>\n",
       "    </tr>\n",
       "    <tr>\n",
       "      <th>4</th>\n",
       "      <td>5</td>\n",
       "      <td>產業力拚碳中和 業者：法規限制為減碳最大挑戰</td>\n",
       "      <td>2023-08-07 16:25:00</td>\n",
       "      <td>產經</td>\n",
       "      <td>NaN</td>\n",
       "      <td>https://udn.com/news/story/123674/7352534</td>\n",
       "      <td>台灣碳權交易所今天揭牌，國內傳統產業碳排大戶靜待相關子法出爐，期盼透過碳權買賣協助企業達標碳...</td>\n",
       "      <td>UDN</td>\n",
       "    </tr>\n",
       "    <tr>\n",
       "      <th>...</th>\n",
       "      <td>...</td>\n",
       "      <td>...</td>\n",
       "      <td>...</td>\n",
       "      <td>...</td>\n",
       "      <td>...</td>\n",
       "      <td>...</td>\n",
       "      <td>...</td>\n",
       "      <td>...</td>\n",
       "    </tr>\n",
       "    <tr>\n",
       "      <th>1258</th>\n",
       "      <td>1259</td>\n",
       "      <td>沃旭將深耕離岸風電市場</td>\n",
       "      <td>2024-04-25 00:52:00</td>\n",
       "      <td>產經</td>\n",
       "      <td>NaN</td>\n",
       "      <td>https://udn.com/news/story/7241/7921603</td>\n",
       "      <td>沃旭能源昨（24）日表示，大彰化東南及西南第一階段離岸風場在過去六年已創造5,230億元經濟...</td>\n",
       "      <td>UDN</td>\n",
       "    </tr>\n",
       "    <tr>\n",
       "      <th>1259</th>\n",
       "      <td>1260</td>\n",
       "      <td>賴清德視察中鋼：碳中和轉型為關鍵焦點</td>\n",
       "      <td>2024-04-28 10:34:00</td>\n",
       "      <td>產經</td>\n",
       "      <td>NaN</td>\n",
       "      <td>https://udn.com/news/story/7241/7928495</td>\n",
       "      <td>副總統賴清德4月26日在經濟部部長王美花及高雄市市長陳其邁陪同前往中鋼（2002）視察，由中...</td>\n",
       "      <td>UDN</td>\n",
       "    </tr>\n",
       "    <tr>\n",
       "      <th>1260</th>\n",
       "      <td>1261</td>\n",
       "      <td>中鋼工會理事長「春生仔」的意見 會受到新政府重視？</td>\n",
       "      <td>2024-04-29 17:22:00</td>\n",
       "      <td>產經</td>\n",
       "      <td>NaN</td>\n",
       "      <td>https://udn.com/news/story/7241/7931206</td>\n",
       "      <td>準總統賴清德日前親訪中鋼（2002），牽動中鋼董事長、總經理及執行副總等高層人事異動的敏感神...</td>\n",
       "      <td>UDN</td>\n",
       "    </tr>\n",
       "    <tr>\n",
       "      <th>1261</th>\n",
       "      <td>1262</td>\n",
       "      <td>加速推動台灣氫能市場起飛 GESA攜手產官學共同研商轉契機</td>\n",
       "      <td>2024-05-02 15:24:00</td>\n",
       "      <td>產經</td>\n",
       "      <td>NaN</td>\n",
       "      <td>https://udn.com/news/story/7241/7938048</td>\n",
       "      <td>依據國際能源總署(IEA) 2023年推估，氫能科技市場將於2030年前後進入普及化的爆發點...</td>\n",
       "      <td>UDN</td>\n",
       "    </tr>\n",
       "    <tr>\n",
       "      <th>1262</th>\n",
       "      <td>1263</td>\n",
       "      <td>綠色行動力論壇／行政院副院長鄭文燦談碳有價 催動產業淨零</td>\n",
       "      <td>2024-05-03 01:08:00</td>\n",
       "      <td>產經</td>\n",
       "      <td>NaN</td>\n",
       "      <td>https://udn.com/news/story/7241/7939211</td>\n",
       "      <td>行政院副院長鄭文燦昨（2）日表示，台灣能源轉型跟淨零轉型在過去八年已累積一定成果，如何走得更...</td>\n",
       "      <td>UDN</td>\n",
       "    </tr>\n",
       "  </tbody>\n",
       "</table>\n",
       "<p>1263 rows × 8 columns</p>\n",
       "</div>"
      ],
      "text/plain": [
       "      system_id                         artTitle              artDate  \\\n",
       "0             1  日圓一直貶值會怎樣？ 一張表曝光日本企業鮮為人知的營業利益貢獻  2023-06-29 15:20:00   \n",
       "1             2      碳權交易所營運勢將再加速綠領人才需求 十年成長6.5倍  2023-08-07 11:42:00   \n",
       "2             3        台灣碳權交易所揭牌 蔡總統：整體創造5.9兆元產值  2023-08-07 14:27:00   \n",
       "3             4       台灣碳權交易所揭牌 蔡總統：持續協助企業面對淨零轉型  2023-08-07 15:29:00   \n",
       "4             5           產業力拚碳中和 業者：法規限制為減碳最大挑戰  2023-08-07 16:25:00   \n",
       "...         ...                              ...                  ...   \n",
       "1258       1259                      沃旭將深耕離岸風電市場  2024-04-25 00:52:00   \n",
       "1259       1260               賴清德視察中鋼：碳中和轉型為關鍵焦點  2024-04-28 10:34:00   \n",
       "1260       1261        中鋼工會理事長「春生仔」的意見 會受到新政府重視？  2024-04-29 17:22:00   \n",
       "1261       1262    加速推動台灣氫能市場起飛 GESA攜手產官學共同研商轉契機  2024-05-02 15:24:00   \n",
       "1262       1263     綠色行動力論壇／行政院副院長鄭文燦談碳有價 催動產業淨零  2024-05-03 01:08:00   \n",
       "\n",
       "     artCatagory  artSecondCatagory  \\\n",
       "0             產經                NaN   \n",
       "1             產經                NaN   \n",
       "2             產經                NaN   \n",
       "3             產經                NaN   \n",
       "4             產經                NaN   \n",
       "...          ...                ...   \n",
       "1258          產經                NaN   \n",
       "1259          產經                NaN   \n",
       "1260          產經                NaN   \n",
       "1261          產經                NaN   \n",
       "1262          產經                NaN   \n",
       "\n",
       "                                         artUrl  \\\n",
       "0     https://udn.com/news/story/121591/7265735   \n",
       "1     https://udn.com/news/story/123674/7351803   \n",
       "2     https://udn.com/news/story/123674/7352278   \n",
       "3     https://udn.com/news/story/123674/7352482   \n",
       "4     https://udn.com/news/story/123674/7352534   \n",
       "...                                         ...   \n",
       "1258    https://udn.com/news/story/7241/7921603   \n",
       "1259    https://udn.com/news/story/7241/7928495   \n",
       "1260    https://udn.com/news/story/7241/7931206   \n",
       "1261    https://udn.com/news/story/7241/7938048   \n",
       "1262    https://udn.com/news/story/7241/7939211   \n",
       "\n",
       "                                             artContent dataSource  \n",
       "0     最近，筆者常被詢問，對於一檔即將募集的日本龍頭企業基金的看法？這些朋友大多有閒錢約幾十萬，又...        UDN  \n",
       "1     「台灣碳權交易所」今（7）日正式營運，加速帶動相關人才需求，「綠領新貴」勢將成為就業市場當紅...        UDN  \n",
       "2     台灣碳權交易所今天正式揭牌，總統蔡英文說，從2023年到2030年，淨零碳排整體努力，預計帶...        UDN  \n",
       "3     蔡總統今（7）日前往高雄出席「台灣碳權交易所開幕揭牌典禮」時指出，碳權交易所的設置，能讓台灣...        UDN  \n",
       "4     台灣碳權交易所今天揭牌，國內傳統產業碳排大戶靜待相關子法出爐，期盼透過碳權買賣協助企業達標碳...        UDN  \n",
       "...                                                 ...        ...  \n",
       "1258  沃旭能源昨（24）日表示，大彰化東南及西南第一階段離岸風場在過去六年已創造5,230億元經濟...        UDN  \n",
       "1259  副總統賴清德4月26日在經濟部部長王美花及高雄市市長陳其邁陪同前往中鋼（2002）視察，由中...        UDN  \n",
       "1260  準總統賴清德日前親訪中鋼（2002），牽動中鋼董事長、總經理及執行副總等高層人事異動的敏感神...        UDN  \n",
       "1261  依據國際能源總署(IEA) 2023年推估，氫能科技市場將於2030年前後進入普及化的爆發點...        UDN  \n",
       "1262  行政院副院長鄭文燦昨（2）日表示，台灣能源轉型跟淨零轉型在過去八年已累積一定成果，如何走得更...        UDN  \n",
       "\n",
       "[1263 rows x 8 columns]"
      ]
     },
     "execution_count": 37,
     "metadata": {},
     "output_type": "execute_result"
    }
   ],
   "source": [
    "# 讀入中文示範資料集\n",
    "origin_data = pd.read_csv('./raw_data/udn_offshore_wind_2305-2405.csv')\n",
    "origin_data"
   ]
  },
  {
   "cell_type": "markdown",
   "metadata": {},
   "source": [
    "## 2. 資料前處理"
   ]
  },
  {
   "cell_type": "code",
   "execution_count": 38,
   "metadata": {},
   "outputs": [
    {
     "name": "stderr",
     "output_type": "stream",
     "text": [
      "Building prefix dict from /Users/aiden/我的雲端硬碟/中山大學資管所/112-2 MIS581 社群媒體分析/Team-8-Project/第8組_HW3/dict/dict.txt.big ...\n",
      "Loading model from cache /var/folders/2q/r2vqr_g50sz68tkjg_dd_1y40000gn/T/jieba.u29e25bb54a899393c5a6abd8d1d7faf8.cache\n",
      "Loading model cost 0.514 seconds.\n",
      "Prefix dict has been built successfully.\n"
     ]
    },
    {
     "data": {
      "text/html": [
       "<div>\n",
       "<style scoped>\n",
       "    .dataframe tbody tr th:only-of-type {\n",
       "        vertical-align: middle;\n",
       "    }\n",
       "\n",
       "    .dataframe tbody tr th {\n",
       "        vertical-align: top;\n",
       "    }\n",
       "\n",
       "    .dataframe thead th {\n",
       "        text-align: right;\n",
       "    }\n",
       "</style>\n",
       "<table border=\"1\" class=\"dataframe\">\n",
       "  <thead>\n",
       "    <tr style=\"text-align: right;\">\n",
       "      <th></th>\n",
       "      <th>system_id</th>\n",
       "      <th>artTitle</th>\n",
       "      <th>artDate</th>\n",
       "      <th>artCatagory</th>\n",
       "      <th>artContent</th>\n",
       "      <th>sentence</th>\n",
       "      <th>word</th>\n",
       "    </tr>\n",
       "  </thead>\n",
       "  <tbody>\n",
       "    <tr>\n",
       "      <th>1</th>\n",
       "      <td>1</td>\n",
       "      <td>日圓一直貶值會怎樣？ 一張表曝光日本企業鮮為人知的營業利益貢獻</td>\n",
       "      <td>2023-06-29 15:20:00</td>\n",
       "      <td>產經</td>\n",
       "      <td>最近，筆者常被詢問，對於一檔即將募集的日本龍頭企業基金的看法？這些朋友大多有閒錢約幾十萬，又...</td>\n",
       "      <td>筆者常被詢問</td>\n",
       "      <td>[筆者, 詢問]</td>\n",
       "    </tr>\n",
       "    <tr>\n",
       "      <th>2</th>\n",
       "      <td>1</td>\n",
       "      <td>日圓一直貶值會怎樣？ 一張表曝光日本企業鮮為人知的營業利益貢獻</td>\n",
       "      <td>2023-06-29 15:20:00</td>\n",
       "      <td>產經</td>\n",
       "      <td>最近，筆者常被詢問，對於一檔即將募集的日本龍頭企業基金的看法？這些朋友大多有閒錢約幾十萬，又...</td>\n",
       "      <td>對於一檔即將募集的日本龍頭企業基金的看法</td>\n",
       "      <td>[一檔, 募集, 日本, 龍頭企業, 基金, 看法]</td>\n",
       "    </tr>\n",
       "    <tr>\n",
       "      <th>3</th>\n",
       "      <td>1</td>\n",
       "      <td>日圓一直貶值會怎樣？ 一張表曝光日本企業鮮為人知的營業利益貢獻</td>\n",
       "      <td>2023-06-29 15:20:00</td>\n",
       "      <td>產經</td>\n",
       "      <td>最近，筆者常被詢問，對於一檔即將募集的日本龍頭企業基金的看法？這些朋友大多有閒錢約幾十萬，又...</td>\n",
       "      <td>這些朋友大多有閒錢約幾十萬</td>\n",
       "      <td>[朋友, 閒錢, 幾十萬]</td>\n",
       "    </tr>\n",
       "    <tr>\n",
       "      <th>4</th>\n",
       "      <td>1</td>\n",
       "      <td>日圓一直貶值會怎樣？ 一張表曝光日本企業鮮為人知的營業利益貢獻</td>\n",
       "      <td>2023-06-29 15:20:00</td>\n",
       "      <td>產經</td>\n",
       "      <td>最近，筆者常被詢問，對於一檔即將募集的日本龍頭企業基金的看法？這些朋友大多有閒錢約幾十萬，又...</td>\n",
       "      <td>又聽業務員及專家看好日本經濟</td>\n",
       "      <td>[業務員, 專家, 看好, 日本, 經濟]</td>\n",
       "    </tr>\n",
       "    <tr>\n",
       "      <th>5</th>\n",
       "      <td>1</td>\n",
       "      <td>日圓一直貶值會怎樣？ 一張表曝光日本企業鮮為人知的營業利益貢獻</td>\n",
       "      <td>2023-06-29 15:20:00</td>\n",
       "      <td>產經</td>\n",
       "      <td>最近，筆者常被詢問，對於一檔即將募集的日本龍頭企業基金的看法？這些朋友大多有閒錢約幾十萬，又...</td>\n",
       "      <td>讓他們非常心動而想投資要說今年以來最夯的投資標的</td>\n",
       "      <td>[心動, 投資, 要說, 今年以來, 最夯, 投資, 標的]</td>\n",
       "    </tr>\n",
       "    <tr>\n",
       "      <th>...</th>\n",
       "      <td>...</td>\n",
       "      <td>...</td>\n",
       "      <td>...</td>\n",
       "      <td>...</td>\n",
       "      <td>...</td>\n",
       "      <td>...</td>\n",
       "      <td>...</td>\n",
       "    </tr>\n",
       "    <tr>\n",
       "      <th>88413</th>\n",
       "      <td>1263</td>\n",
       "      <td>綠色行動力論壇／行政院副院長鄭文燦談碳有價 催動產業淨零</td>\n",
       "      <td>2024-05-03 01:08:00</td>\n",
       "      <td>產經</td>\n",
       "      <td>行政院副院長鄭文燦昨（2）日表示，台灣能源轉型跟淨零轉型在過去八年已累積一定成果，如何走得更...</td>\n",
       "      <td>在本屆獎項中</td>\n",
       "      <td>[本屆, 獎項]</td>\n",
       "    </tr>\n",
       "    <tr>\n",
       "      <th>88414</th>\n",
       "      <td>1263</td>\n",
       "      <td>綠色行動力論壇／行政院副院長鄭文燦談碳有價 催動產業淨零</td>\n",
       "      <td>2024-05-03 01:08:00</td>\n",
       "      <td>產經</td>\n",
       "      <td>行政院副院長鄭文燦昨（2）日表示，台灣能源轉型跟淨零轉型在過去八年已累積一定成果，如何走得更...</td>\n",
       "      <td>遠東新世紀亞洲今年</td>\n",
       "      <td>[遠東, 新世紀, 亞洲]</td>\n",
       "    </tr>\n",
       "    <tr>\n",
       "      <th>88415</th>\n",
       "      <td>1263</td>\n",
       "      <td>綠色行動力論壇／行政院副院長鄭文燦談碳有價 催動產業淨零</td>\n",
       "      <td>2024-05-03 01:08:00</td>\n",
       "      <td>產經</td>\n",
       "      <td>行政院副院長鄭文燦昨（2）日表示，台灣能源轉型跟淨零轉型在過去八年已累積一定成果，如何走得更...</td>\n",
       "      <td>將是它的勢力大幅改寫全球版圖的一年</td>\n",
       "      <td>[將是, 勢力, 大幅, 改寫, 全球, 版圖, 一年]</td>\n",
       "    </tr>\n",
       "    <tr>\n",
       "      <th>88417</th>\n",
       "      <td>1263</td>\n",
       "      <td>綠色行動力論壇／行政院副院長鄭文燦談碳有價 催動產業淨零</td>\n",
       "      <td>2024-05-03 01:08:00</td>\n",
       "      <td>產經</td>\n",
       "      <td>行政院副院長鄭文燦昨（2）日表示，台灣能源轉型跟淨零轉型在過去八年已累積一定成果，如何走得更...</td>\n",
       "      <td>正處於一個進退維谷的窘境</td>\n",
       "      <td>[處於, 進退維谷, 窘境]</td>\n",
       "    </tr>\n",
       "    <tr>\n",
       "      <th>88418</th>\n",
       "      <td>1263</td>\n",
       "      <td>綠色行動力論壇／行政院副院長鄭文燦談碳有價 催動產業淨零</td>\n",
       "      <td>2024-05-03 01:08:00</td>\n",
       "      <td>產經</td>\n",
       "      <td>行政院副院長鄭文燦昨（2）日表示，台灣能源轉型跟淨零轉型在過去八年已累積一定成果，如何走得更...</td>\n",
       "      <td>說話的是歐洲汽車研究權威機構波鴻研究中心主任德國汽車教父杜登霍夫</td>\n",
       "      <td>[說話, 歐洲, 汽車, 研究, 權威機構, 波鴻, 研究, 中心, 主任, 德國, 汽車,...</td>\n",
       "    </tr>\n",
       "  </tbody>\n",
       "</table>\n",
       "<p>85027 rows × 7 columns</p>\n",
       "</div>"
      ],
      "text/plain": [
       "       system_id                         artTitle              artDate  \\\n",
       "1              1  日圓一直貶值會怎樣？ 一張表曝光日本企業鮮為人知的營業利益貢獻  2023-06-29 15:20:00   \n",
       "2              1  日圓一直貶值會怎樣？ 一張表曝光日本企業鮮為人知的營業利益貢獻  2023-06-29 15:20:00   \n",
       "3              1  日圓一直貶值會怎樣？ 一張表曝光日本企業鮮為人知的營業利益貢獻  2023-06-29 15:20:00   \n",
       "4              1  日圓一直貶值會怎樣？ 一張表曝光日本企業鮮為人知的營業利益貢獻  2023-06-29 15:20:00   \n",
       "5              1  日圓一直貶值會怎樣？ 一張表曝光日本企業鮮為人知的營業利益貢獻  2023-06-29 15:20:00   \n",
       "...          ...                              ...                  ...   \n",
       "88413       1263     綠色行動力論壇／行政院副院長鄭文燦談碳有價 催動產業淨零  2024-05-03 01:08:00   \n",
       "88414       1263     綠色行動力論壇／行政院副院長鄭文燦談碳有價 催動產業淨零  2024-05-03 01:08:00   \n",
       "88415       1263     綠色行動力論壇／行政院副院長鄭文燦談碳有價 催動產業淨零  2024-05-03 01:08:00   \n",
       "88417       1263     綠色行動力論壇／行政院副院長鄭文燦談碳有價 催動產業淨零  2024-05-03 01:08:00   \n",
       "88418       1263     綠色行動力論壇／行政院副院長鄭文燦談碳有價 催動產業淨零  2024-05-03 01:08:00   \n",
       "\n",
       "      artCatagory                                         artContent  \\\n",
       "1              產經  最近，筆者常被詢問，對於一檔即將募集的日本龍頭企業基金的看法？這些朋友大多有閒錢約幾十萬，又...   \n",
       "2              產經  最近，筆者常被詢問，對於一檔即將募集的日本龍頭企業基金的看法？這些朋友大多有閒錢約幾十萬，又...   \n",
       "3              產經  最近，筆者常被詢問，對於一檔即將募集的日本龍頭企業基金的看法？這些朋友大多有閒錢約幾十萬，又...   \n",
       "4              產經  最近，筆者常被詢問，對於一檔即將募集的日本龍頭企業基金的看法？這些朋友大多有閒錢約幾十萬，又...   \n",
       "5              產經  最近，筆者常被詢問，對於一檔即將募集的日本龍頭企業基金的看法？這些朋友大多有閒錢約幾十萬，又...   \n",
       "...           ...                                                ...   \n",
       "88413          產經  行政院副院長鄭文燦昨（2）日表示，台灣能源轉型跟淨零轉型在過去八年已累積一定成果，如何走得更...   \n",
       "88414          產經  行政院副院長鄭文燦昨（2）日表示，台灣能源轉型跟淨零轉型在過去八年已累積一定成果，如何走得更...   \n",
       "88415          產經  行政院副院長鄭文燦昨（2）日表示，台灣能源轉型跟淨零轉型在過去八年已累積一定成果，如何走得更...   \n",
       "88417          產經  行政院副院長鄭文燦昨（2）日表示，台灣能源轉型跟淨零轉型在過去八年已累積一定成果，如何走得更...   \n",
       "88418          產經  行政院副院長鄭文燦昨（2）日表示，台灣能源轉型跟淨零轉型在過去八年已累積一定成果，如何走得更...   \n",
       "\n",
       "                               sentence  \\\n",
       "1                                筆者常被詢問   \n",
       "2                  對於一檔即將募集的日本龍頭企業基金的看法   \n",
       "3                         這些朋友大多有閒錢約幾十萬   \n",
       "4                        又聽業務員及專家看好日本經濟   \n",
       "5              讓他們非常心動而想投資要說今年以來最夯的投資標的   \n",
       "...                                 ...   \n",
       "88413                            在本屆獎項中   \n",
       "88414                         遠東新世紀亞洲今年   \n",
       "88415                 將是它的勢力大幅改寫全球版圖的一年   \n",
       "88417                      正處於一個進退維谷的窘境   \n",
       "88418  說話的是歐洲汽車研究權威機構波鴻研究中心主任德國汽車教父杜登霍夫   \n",
       "\n",
       "                                                    word  \n",
       "1                                               [筆者, 詢問]  \n",
       "2                             [一檔, 募集, 日本, 龍頭企業, 基金, 看法]  \n",
       "3                                          [朋友, 閒錢, 幾十萬]  \n",
       "4                                  [業務員, 專家, 看好, 日本, 經濟]  \n",
       "5                         [心動, 投資, 要說, 今年以來, 最夯, 投資, 標的]  \n",
       "...                                                  ...  \n",
       "88413                                           [本屆, 獎項]  \n",
       "88414                                      [遠東, 新世紀, 亞洲]  \n",
       "88415                       [將是, 勢力, 大幅, 改寫, 全球, 版圖, 一年]  \n",
       "88417                                     [處於, 進退維谷, 窘境]  \n",
       "88418  [說話, 歐洲, 汽車, 研究, 權威機構, 波鴻, 研究, 中心, 主任, 德國, 汽車,...  \n",
       "\n",
       "[85027 rows x 7 columns]"
      ]
     },
     "execution_count": 38,
     "metadata": {},
     "output_type": "execute_result"
    }
   ],
   "source": [
    "# 資料前處理\n",
    "\n",
    "# 去除一些不需要的欄位\n",
    "metaData = origin_data.drop(['artSecondCatagory', 'artUrl', 'dataSource'], axis=1)\n",
    "\n",
    "# 只留下中文字\n",
    "metaData['sentence'] = metaData['artContent'].str.replace(r'\\n\\n','。', regex=True)\n",
    "metaData['sentence'] = metaData['sentence'].str.replace(r'\\n','', regex=True)\n",
    "\n",
    "metaData['sentence'] = metaData['sentence'].str.split(\"[,，。！!？?]{1,}\")\n",
    "metaData = metaData.explode('sentence').reset_index(drop=True)\n",
    "\n",
    "metaData['sentence'] = metaData['sentence'].apply(lambda x: re.sub('[^\\u4e00-\\u9fff]+', '',x))\n",
    "\n",
    "metaData['word'] = metaData.sentence.apply(getToken)\n",
    "\n",
    "metaData = metaData[metaData['word'].apply(len) > 0]\n",
    "\n",
    "metaData"
   ]
  },
  {
   "cell_type": "markdown",
   "metadata": {},
   "source": [
    "## 3. W2V處理 (Bigram)"
   ]
  },
  {
   "cell_type": "code",
   "execution_count": 39,
   "metadata": {},
   "outputs": [
    {
     "data": {
      "text/html": [
       "<div>\n",
       "<style scoped>\n",
       "    .dataframe tbody tr th:only-of-type {\n",
       "        vertical-align: middle;\n",
       "    }\n",
       "\n",
       "    .dataframe tbody tr th {\n",
       "        vertical-align: top;\n",
       "    }\n",
       "\n",
       "    .dataframe thead th {\n",
       "        text-align: right;\n",
       "    }\n",
       "</style>\n",
       "<table border=\"1\" class=\"dataframe\">\n",
       "  <thead>\n",
       "    <tr style=\"text-align: right;\">\n",
       "      <th></th>\n",
       "      <th>system_id</th>\n",
       "      <th>artTitle</th>\n",
       "      <th>artDate</th>\n",
       "      <th>artCatagory</th>\n",
       "      <th>artContent</th>\n",
       "      <th>sentence</th>\n",
       "      <th>word</th>\n",
       "      <th>word_list_bigrams</th>\n",
       "    </tr>\n",
       "  </thead>\n",
       "  <tbody>\n",
       "    <tr>\n",
       "      <th>1</th>\n",
       "      <td>1</td>\n",
       "      <td>日圓一直貶值會怎樣？ 一張表曝光日本企業鮮為人知的營業利益貢獻</td>\n",
       "      <td>2023-06-29 15:20:00</td>\n",
       "      <td>產經</td>\n",
       "      <td>最近，筆者常被詢問，對於一檔即將募集的日本龍頭企業基金的看法？這些朋友大多有閒錢約幾十萬，又...</td>\n",
       "      <td>筆者常被詢問</td>\n",
       "      <td>[筆者, 詢問]</td>\n",
       "      <td>[筆者, 詢問]</td>\n",
       "    </tr>\n",
       "    <tr>\n",
       "      <th>2</th>\n",
       "      <td>1</td>\n",
       "      <td>日圓一直貶值會怎樣？ 一張表曝光日本企業鮮為人知的營業利益貢獻</td>\n",
       "      <td>2023-06-29 15:20:00</td>\n",
       "      <td>產經</td>\n",
       "      <td>最近，筆者常被詢問，對於一檔即將募集的日本龍頭企業基金的看法？這些朋友大多有閒錢約幾十萬，又...</td>\n",
       "      <td>對於一檔即將募集的日本龍頭企業基金的看法</td>\n",
       "      <td>[一檔, 募集, 日本, 龍頭企業, 基金, 看法]</td>\n",
       "      <td>[一檔, 募集, 日本, 龍頭企業, 基金, 看法]</td>\n",
       "    </tr>\n",
       "    <tr>\n",
       "      <th>3</th>\n",
       "      <td>1</td>\n",
       "      <td>日圓一直貶值會怎樣？ 一張表曝光日本企業鮮為人知的營業利益貢獻</td>\n",
       "      <td>2023-06-29 15:20:00</td>\n",
       "      <td>產經</td>\n",
       "      <td>最近，筆者常被詢問，對於一檔即將募集的日本龍頭企業基金的看法？這些朋友大多有閒錢約幾十萬，又...</td>\n",
       "      <td>這些朋友大多有閒錢約幾十萬</td>\n",
       "      <td>[朋友, 閒錢, 幾十萬]</td>\n",
       "      <td>[朋友, 閒錢, 幾十萬]</td>\n",
       "    </tr>\n",
       "    <tr>\n",
       "      <th>4</th>\n",
       "      <td>1</td>\n",
       "      <td>日圓一直貶值會怎樣？ 一張表曝光日本企業鮮為人知的營業利益貢獻</td>\n",
       "      <td>2023-06-29 15:20:00</td>\n",
       "      <td>產經</td>\n",
       "      <td>最近，筆者常被詢問，對於一檔即將募集的日本龍頭企業基金的看法？這些朋友大多有閒錢約幾十萬，又...</td>\n",
       "      <td>又聽業務員及專家看好日本經濟</td>\n",
       "      <td>[業務員, 專家, 看好, 日本, 經濟]</td>\n",
       "      <td>[業務員, 專家, 看好, 日本, 經濟]</td>\n",
       "    </tr>\n",
       "    <tr>\n",
       "      <th>5</th>\n",
       "      <td>1</td>\n",
       "      <td>日圓一直貶值會怎樣？ 一張表曝光日本企業鮮為人知的營業利益貢獻</td>\n",
       "      <td>2023-06-29 15:20:00</td>\n",
       "      <td>產經</td>\n",
       "      <td>最近，筆者常被詢問，對於一檔即將募集的日本龍頭企業基金的看法？這些朋友大多有閒錢約幾十萬，又...</td>\n",
       "      <td>讓他們非常心動而想投資要說今年以來最夯的投資標的</td>\n",
       "      <td>[心動, 投資, 要說, 今年以來, 最夯, 投資, 標的]</td>\n",
       "      <td>[心動, 投資, 要說, 今年以來, 最夯, 投資, 標的]</td>\n",
       "    </tr>\n",
       "  </tbody>\n",
       "</table>\n",
       "</div>"
      ],
      "text/plain": [
       "   system_id                         artTitle              artDate  \\\n",
       "1          1  日圓一直貶值會怎樣？ 一張表曝光日本企業鮮為人知的營業利益貢獻  2023-06-29 15:20:00   \n",
       "2          1  日圓一直貶值會怎樣？ 一張表曝光日本企業鮮為人知的營業利益貢獻  2023-06-29 15:20:00   \n",
       "3          1  日圓一直貶值會怎樣？ 一張表曝光日本企業鮮為人知的營業利益貢獻  2023-06-29 15:20:00   \n",
       "4          1  日圓一直貶值會怎樣？ 一張表曝光日本企業鮮為人知的營業利益貢獻  2023-06-29 15:20:00   \n",
       "5          1  日圓一直貶值會怎樣？ 一張表曝光日本企業鮮為人知的營業利益貢獻  2023-06-29 15:20:00   \n",
       "\n",
       "  artCatagory                                         artContent  \\\n",
       "1          產經  最近，筆者常被詢問，對於一檔即將募集的日本龍頭企業基金的看法？這些朋友大多有閒錢約幾十萬，又...   \n",
       "2          產經  最近，筆者常被詢問，對於一檔即將募集的日本龍頭企業基金的看法？這些朋友大多有閒錢約幾十萬，又...   \n",
       "3          產經  最近，筆者常被詢問，對於一檔即將募集的日本龍頭企業基金的看法？這些朋友大多有閒錢約幾十萬，又...   \n",
       "4          產經  最近，筆者常被詢問，對於一檔即將募集的日本龍頭企業基金的看法？這些朋友大多有閒錢約幾十萬，又...   \n",
       "5          產經  最近，筆者常被詢問，對於一檔即將募集的日本龍頭企業基金的看法？這些朋友大多有閒錢約幾十萬，又...   \n",
       "\n",
       "                   sentence                            word  \\\n",
       "1                    筆者常被詢問                        [筆者, 詢問]   \n",
       "2      對於一檔即將募集的日本龍頭企業基金的看法      [一檔, 募集, 日本, 龍頭企業, 基金, 看法]   \n",
       "3             這些朋友大多有閒錢約幾十萬                   [朋友, 閒錢, 幾十萬]   \n",
       "4            又聽業務員及專家看好日本經濟           [業務員, 專家, 看好, 日本, 經濟]   \n",
       "5  讓他們非常心動而想投資要說今年以來最夯的投資標的  [心動, 投資, 要說, 今年以來, 最夯, 投資, 標的]   \n",
       "\n",
       "                word_list_bigrams  \n",
       "1                        [筆者, 詢問]  \n",
       "2      [一檔, 募集, 日本, 龍頭企業, 基金, 看法]  \n",
       "3                   [朋友, 閒錢, 幾十萬]  \n",
       "4           [業務員, 專家, 看好, 日本, 經濟]  \n",
       "5  [心動, 投資, 要說, 今年以來, 最夯, 投資, 標的]  "
      ]
     },
     "execution_count": 39,
     "metadata": {},
     "output_type": "execute_result"
    }
   ],
   "source": [
    "sents = metaData['word'].to_list()\n",
    "bigrams = Phrases(sents,min_count=1, threshold=1000)\n",
    "bigram_phrasers = Phraser(bigrams)\n",
    "metaData['word_list_bigrams'] = list(bigram_phrasers[sents])\n",
    "\n",
    "metaData.head()"
   ]
  },
  {
   "cell_type": "code",
   "execution_count": 40,
   "metadata": {},
   "outputs": [],
   "source": [
    "word_freq = defaultdict(int)\n",
    "# 計算詞頻\n",
    "sents = metaData['word_list_bigrams'].tolist()\n",
    "for sent in sents: # sent 中的每個句子\n",
    "    for i in sent: # i 是句子中的每個字\n",
    "        word_freq[i] += 1"
   ]
  },
  {
   "cell_type": "markdown",
   "metadata": {},
   "source": [
    "### 3-1. 詞頻計算"
   ]
  },
  {
   "cell_type": "code",
   "execution_count": 41,
   "metadata": {},
   "outputs": [
    {
     "name": "stdout",
     "output_type": "stream",
     "text": [
      "total unique words in sentences: 34230\n"
     ]
    },
    {
     "data": {
      "text/plain": [
       "['台灣', '風電', '離岸', '產業', '能源', '企業', '發展', '投資', '經濟部', '全球']"
      ]
     },
     "execution_count": 41,
     "metadata": {},
     "output_type": "execute_result"
    }
   ],
   "source": [
    "print(f\"total unique words in sentences: {len(word_freq)}\")\n",
    "sorted(word_freq, key=word_freq.get, reverse=True)[:10]"
   ]
  },
  {
   "cell_type": "code",
   "execution_count": 42,
   "metadata": {},
   "outputs": [
    {
     "name": "stdout",
     "output_type": "stream",
     "text": [
      "sentence number of corpus: 85027\n",
      "average length of sentences: 4.790149011490468\n"
     ]
    }
   ],
   "source": [
    "print(f\"sentence number of corpus: {len(sents)}\")\n",
    "i = 0\n",
    "for sent in sents:\n",
    "    i = i + len(sent)\n",
    "print(f\"average length of sentences: {i/len(sents)}\")"
   ]
  },
  {
   "cell_type": "code",
   "execution_count": 43,
   "metadata": {},
   "outputs": [
    {
     "name": "stdout",
     "output_type": "stream",
     "text": [
      "env: PYTHONHASHSEED=8787\n"
     ]
    }
   ],
   "source": [
    "# 環境變數設定\n",
    "%env PYTHONHASHSEED=8787"
   ]
  },
  {
   "cell_type": "code",
   "execution_count": 44,
   "metadata": {},
   "outputs": [
    {
     "name": "stdout",
     "output_type": "stream",
     "text": [
      "number of cores: 8\n"
     ]
    }
   ],
   "source": [
    "# 查看機器的core\n",
    "cores = multiprocessing.cpu_count()\n",
    "print(f\"number of cores: {cores}\")"
   ]
  },
  {
   "cell_type": "markdown",
   "metadata": {},
   "source": [
    "### 3-2. 建立模型"
   ]
  },
  {
   "cell_type": "code",
   "execution_count": 45,
   "metadata": {},
   "outputs": [],
   "source": [
    "# 建立模型\n",
    "w2v_model = Word2Vec(sents,\n",
    "                     min_count=30,# 小於30次tf的字會被刪除\n",
    "                     window=2,# 往左右各2的距離\n",
    "                     vector_size=128,# vector 的維度\n",
    "                     sample=0.005,# 愈小的話，高tf的字會不容易被選到\n",
    "                     alpha=0.001,# learning rate\n",
    "                     min_alpha=0.0005, # 迭代到最小的learning rate，learning rate會慢慢下降至min_alpha\n",
    "                     #  negative=0,\n",
    "                     workers=cores-1, # 用的cpu資源\n",
    "                     seed=8787,\n",
    "                     sg = 1,# 0/1 是否使用skip gram\n",
    "                     epochs= 30,\n",
    "                     hs=1 , # hierarchical softmax\n",
    "                     )"
   ]
  },
  {
   "cell_type": "markdown",
   "metadata": {},
   "source": [
    "### 3-3. 計算相關分數"
   ]
  },
  {
   "cell_type": "code",
   "execution_count": 46,
   "metadata": {},
   "outputs": [
    {
     "data": {
      "text/plain": [
       "[('風力', 0.7323279976844788),\n",
       " ('風場', 0.7073355317115784),\n",
       " ('場址', 0.665302038192749),\n",
       " ('第三階段', 0.6570948362350464),\n",
       " ('離岸', 0.6513679027557373),\n",
       " ('地熱', 0.6449326872825623),\n",
       " ('風機', 0.6445776224136353),\n",
       " ('潛力', 0.6397827863693237),\n",
       " ('深水_區的', 0.6291693449020386),\n",
       " ('第一階段', 0.627719521522522)]"
      ]
     },
     "execution_count": 46,
     "metadata": {},
     "output_type": "execute_result"
    }
   ],
   "source": [
    "# 檢查最相關的字\n",
    "w2v_model.wv.most_similar('風電',topn=10)"
   ]
  },
  {
   "cell_type": "code",
   "execution_count": 47,
   "metadata": {},
   "outputs": [
    {
     "data": {
      "text/plain": [
       "[('正向', 0.6966204047203064),\n",
       " ('亞太', 0.6901517510414124),\n",
       " ('將成', 0.684369683265686),\n",
       " ('唯一', 0.6812499165534973),\n",
       " ('穩健', 0.6804603338241577),\n",
       " ('現況', 0.6754595041275024),\n",
       " ('國家', 0.6719784140586853),\n",
       " ('地區', 0.6695789694786072),\n",
       " ('情況', 0.6669932007789612),\n",
       " ('重點', 0.6662806868553162)]"
      ]
     },
     "execution_count": 47,
     "metadata": {},
     "output_type": "execute_result"
    }
   ],
   "source": [
    "w2v_model.wv.most_similar(['風電','經濟'],topn=10)"
   ]
  },
  {
   "cell_type": "code",
   "execution_count": 48,
   "metadata": {},
   "outputs": [
    {
     "data": {
      "text/plain": [
       "[('使出_渾身解數', -0.005976421292871237),\n",
       " ('台積電', -0.02398489974439144),\n",
       " ('競選', -0.04305809363722801),\n",
       " ('萬元', -0.05625324696302414),\n",
       " ('公開', -0.06091023609042168),\n",
       " ('專家', -0.06353525072336197),\n",
       " ('長榮', -0.09070823341608047),\n",
       " ('總價', -0.09168161451816559),\n",
       " ('陳妍霖_優化', -0.09220550954341888),\n",
       " ('購屋', -0.09402284026145935)]"
      ]
     },
     "execution_count": 48,
     "metadata": {},
     "output_type": "execute_result"
    }
   ],
   "source": [
    "# 跟兩個字最不相關\n",
    "w2v_model.wv.most_similar(negative=['風電','經濟'],topn=10)"
   ]
  },
  {
   "cell_type": "code",
   "execution_count": 49,
   "metadata": {},
   "outputs": [
    {
     "data": {
      "text/plain": [
       "0.732328"
      ]
     },
     "execution_count": 49,
     "metadata": {},
     "output_type": "execute_result"
    }
   ],
   "source": [
    "# 計算兩個字之間的關係\n",
    "w2v_model.wv.similarity(\"風電\",\"風力\")"
   ]
  },
  {
   "cell_type": "code",
   "execution_count": 50,
   "metadata": {},
   "outputs": [
    {
     "data": {
      "text/plain": [
       "'王美花'"
      ]
     },
     "execution_count": 50,
     "metadata": {},
     "output_type": "execute_result"
    }
   ],
   "source": [
    "# 比較字詞間，誰最不相關（邊緣）\n",
    "w2v_model.wv.doesnt_match([\"離岸\", \"風場\", '王美花'])"
   ]
  },
  {
   "cell_type": "code",
   "execution_count": 51,
   "metadata": {},
   "outputs": [
    {
     "data": {
      "text/plain": [
       "[('風場', 0.4161227345466614),\n",
       " ('彰化', 0.3857867419719696),\n",
       " ('開發商', 0.324514776468277),\n",
       " ('工研院', 0.31638607382774353),\n",
       " ('風能', 0.31420639157295227)]"
      ]
     },
     "execution_count": 51,
     "metadata": {},
     "output_type": "execute_result"
    }
   ],
   "source": [
    "# 相對關係\n",
    "w2v_model.wv.most_similar(positive=[\"風力\"], negative=[\"發電\"], topn=5)"
   ]
  },
  {
   "cell_type": "code",
   "execution_count": 52,
   "metadata": {},
   "outputs": [],
   "source": [
    "# 取得所有的字\n",
    "words = w2v_model.wv.key_to_index.keys()"
   ]
  },
  {
   "cell_type": "markdown",
   "metadata": {},
   "source": [
    "### 3-4.視覺化字之間的關係"
   ]
  },
  {
   "cell_type": "code",
   "execution_count": 53,
   "metadata": {},
   "outputs": [],
   "source": [
    "# 降維：利用PCA tSNE\n",
    "\n",
    "def reduceDim(mat,method:str='PCA',dim:str=2,perplexity = 25,learning_rate = 400):\n",
    "\n",
    "    method_dict = {\n",
    "        \"PCA\":PCA(n_components=dim,iterated_power = 1000,random_state=0),\n",
    "        \"TSNE\":TSNE(n_components=dim,random_state=0,perplexity=perplexity,learning_rate=learning_rate),\n",
    "    }\n",
    "    new_feat = method_dict[method].fit_transform(mat)\n",
    "\n",
    "    return new_feat\n"
   ]
  },
  {
   "cell_type": "code",
   "execution_count": 54,
   "metadata": {},
   "outputs": [],
   "source": [
    "# 拿到list of words 的vector\n",
    "def getVecs(model,words:list):\n",
    "    vecs = []\n",
    "    for i in words:\n",
    "        vecs.append(model.wv[i])\n",
    "    return np.vstack(vecs)\n"
   ]
  },
  {
   "cell_type": "code",
   "execution_count": 55,
   "metadata": {},
   "outputs": [],
   "source": [
    "# 擴展相似的字詞\n",
    "def expandPosWord(model,words:list,top_n:int,split = True):\n",
    "\n",
    "    if split == False:\n",
    "        wp = model.wv.most_similar(words,topn = top_n)\n",
    "        return wp\n",
    "    expand = []\n",
    "\n",
    "    for w in words:\n",
    "        wp = model.wv.most_similar(w,topn = top_n)\n",
    "        for i in wp:\n",
    "            expand.append(i[0])\n",
    "    return list(set(expand))\n"
   ]
  },
  {
   "cell_type": "code",
   "execution_count": 56,
   "metadata": {},
   "outputs": [
    {
     "data": {
      "text/plain": [
       "['位於',\n",
       " '地熱',\n",
       " '浮動式',\n",
       " '案場',\n",
       " '遴選',\n",
       " '第三階段',\n",
       " '水力發電',\n",
       " '海能',\n",
       " '專案',\n",
       " '陸域',\n",
       " '澎湖',\n",
       " '浮式',\n",
       " '首座',\n",
       " '風光',\n",
       " '彰化',\n",
       " '潛力',\n",
       " '海龍',\n",
       " '風帆',\n",
       " '太陽能']"
      ]
     },
     "execution_count": 56,
     "metadata": {},
     "output_type": "execute_result"
    }
   ],
   "source": [
    "expandPosWord(w2v_model,['離岸','風力'],top_n = 10)"
   ]
  },
  {
   "cell_type": "code",
   "execution_count": 57,
   "metadata": {},
   "outputs": [],
   "source": [
    "from matplotlib.font_manager import fontManager\n",
    "import plotly.express as px\n",
    "# 畫出兩維的散佈圖\n",
    "def plotScatter(vec_df):\n",
    "    \"\"\"\n",
    "    vec_df: 字詞及其兩個維度的值\n",
    "    \"\"\"\n",
    "    plt.figure(figsize=(15,15))\n",
    "    plt.rcParams['font.sans-serif'] = ['jf-openhuninn-2.0'] \n",
    "    plt.rcParams['font.size'] = '16'\n",
    "\n",
    "    p = sns.scatterplot(x=\"dim1\", y=\"dim2\",\n",
    "                  data=vec_df)\n",
    "    for line in range(0, vec_df.shape[0]):\n",
    "         p.text(vec_df[\"dim1\"][line],\n",
    "                 vec_df['dim2'][line],\n",
    "                 '  ' + vec_df[\"word\"][line].title(),\n",
    "                 horizontalalignment='left',\n",
    "                 verticalalignment='bottom', size='medium',\n",
    "                 weight='normal'\n",
    "                ).set_size(15)\n",
    "    plt.show()\n",
    "# 畫出三維的散佈圖\n",
    "def plotScatter3D(vec_df):\n",
    "    vec_df['size'] = .5\n",
    "    if 'color' not in vec_df.columns:\n",
    "        vec_df['color'] = 'blue'\n",
    "    fig = px.scatter_3d(\n",
    "        vec_df,'dim1','dim2','dim3',text = 'word',width=800, height=800,color = 'color',size = 'size'\n",
    "\n",
    "    )\n",
    "\n",
    "    fig.show()"
   ]
  },
  {
   "cell_type": "code",
   "execution_count": 58,
   "metadata": {},
   "outputs": [
    {
     "name": "stdout",
     "output_type": "stream",
     "text": [
      "(300, 128)\n",
      "(300, 2)\n"
     ]
    }
   ],
   "source": [
    "sample_words = np.random.choice(list(words),300,replace=False).tolist()\n",
    "\n",
    "feat = getVecs(model=w2v_model,words=sample_words)\n",
    "print(feat.shape)\n",
    "new_feat = reduceDim(feat,method='TSNE',perplexity=20,learning_rate = 800)\n",
    "print(new_feat.shape)"
   ]
  },
  {
   "cell_type": "code",
   "execution_count": 59,
   "metadata": {},
   "outputs": [],
   "source": [
    "word_df = pd.DataFrame({\n",
    "    \"word\":sample_words,\n",
    "    \"dim1\":new_feat[:,0],\n",
    "    \"dim2\":new_feat[:,1],\n",
    "})"
   ]
  },
  {
   "cell_type": "code",
   "execution_count": 60,
   "metadata": {},
   "outputs": [
    {
     "data": {
      "image/png": "[encoded data removed]",
      "text/plain": [
       "<Figure size 1500x1500 with 1 Axes>"
      ]
     },
     "metadata": {},
     "output_type": "display_data"
    }
   ],
   "source": [
    "plotScatter(word_df)"
   ]
  },
  {
   "cell_type": "markdown",
   "metadata": {},
   "source": [
    "### 3-5. 3D散點圖"
   ]
  },
  {
   "cell_type": "code",
   "execution_count": 61,
   "metadata": {},
   "outputs": [
    {
     "name": "stdout",
     "output_type": "stream",
     "text": [
      "(300, 3)\n"
     ]
    },
    {
     "data": {
      "application/vnd.plotly.v1+json": {
       "config": {
        "plotlyServerURL": "https://plot.ly"
       },
       "data": [
        {
         "hovertemplate": "color=blue<br>dim1=%{x}<br>dim2=%{y}<br>dim3=%{z}<br>size=%{marker.size}<br>word=%{text}<extra></extra>",
         "legendgroup": "blue",
         "marker": {
          "color": "#636efa",
          "size": [
           0.5,
           0.5,
           0.5,
           0.5,
           0.5,
           0.5,
           0.5,
           0.5,
           0.5,
           0.5,
           0.5,
           0.5,
           0.5,
           0.5,
           0.5,
           0.5,
           0.5,
           0.5,
           0.5,
           0.5,
           0.5,
           0.5,
           0.5,
           0.5,
           0.5,
           0.5,
           0.5,
           0.5,
           0.5,
           0.5,
           0.5,
           0.5,
           0.5,
           0.5,
           0.5,
           0.5,
           0.5,
           0.5,
           0.5,
           0.5,
           0.5,
           0.5,
           0.5,
           0.5,
           0.5,
           0.5,
           0.5,
           0.5,
           0.5,
           0.5,
           0.5,
           0.5,
           0.5,
           0.5,
           0.5,
           0.5,
           0.5,
           0.5,
           0.5,
           0.5,
           0.5,
           0.5,
           0.5,
           0.5,
           0.5,
           0.5,
           0.5,
           0.5,
           0.5,
           0.5,
           0.5,
           0.5,
           0.5,
           0.5,
           0.5,
           0.5,
           0.5,
           0.5,
           0.5,
           0.5,
           0.5,
           0.5,
           0.5,
           0.5,
           0.5,
           0.5,
           0.5,
           0.5,
           0.5,
           0.5,
           0.5,
           0.5,
           0.5,
           0.5,
           0.5,
           0.5,
           0.5,
           0.5,
           0.5,
           0.5,
           0.5,
           0.5,
           0.5,
           0.5,
           0.5,
           0.5,
           0.5,
           0.5,
           0.5,
           0.5,
           0.5,
           0.5,
           0.5,
           0.5,
           0.5,
           0.5,
           0.5,
           0.5,
           0.5,
           0.5,
           0.5,
           0.5,
           0.5,
           0.5,
           0.5,
           0.5,
           0.5,
           0.5,
           0.5,
           0.5,
           0.5,
           0.5,
           0.5,
           0.5,
           0.5,
           0.5,
           0.5,
           0.5,
           0.5,
           0.5,
           0.5,
           0.5,
           0.5,
           0.5,
           0.5,
           0.5,
           0.5,
           0.5,
           0.5,
           0.5,
           0.5,
           0.5,
           0.5,
           0.5,
           0.5,
           0.5,
           0.5,
           0.5,
           0.5,
           0.5,
           0.5,
           0.5,
           0.5,
           0.5,
           0.5,
           0.5,
           0.5,
           0.5,
           0.5,
           0.5,
           0.5,
           0.5,
           0.5,
           0.5,
           0.5,
           0.5,
           0.5,
           0.5,
           0.5,
           0.5,
           0.5,
           0.5,
           0.5,
           0.5,
           0.5,
           0.5,
           0.5,
           0.5,
           0.5,
           0.5,
           0.5,
           0.5,
           0.5,
           0.5,
           0.5,
           0.5,
           0.5,
           0.5,
           0.5,
           0.5,
           0.5,
           0.5,
           0.5,
           0.5,
           0.5,
           0.5,
           0.5,
           0.5,
           0.5,
           0.5,
           0.5,
           0.5,
           0.5,
           0.5,
           0.5,
           0.5,
           0.5,
           0.5,
           0.5,
           0.5,
           0.5,
           0.5,
           0.5,
           0.5,
           0.5,
           0.5,
           0.5,
           0.5,
           0.5,
           0.5,
           0.5,
           0.5,
           0.5,
           0.5,
           0.5,
           0.5,
           0.5,
           0.5,
           0.5,
           0.5,
           0.5,
           0.5,
           0.5,
           0.5,
           0.5,
           0.5,
           0.5,
           0.5,
           0.5,
           0.5,
           0.5,
           0.5,
           0.5,
           0.5,
           0.5,
           0.5,
           0.5,
           0.5,
           0.5,
           0.5,
           0.5,
           0.5,
           0.5,
           0.5,
           0.5,
           0.5,
           0.5,
           0.5,
           0.5,
           0.5,
           0.5,
           0.5,
           0.5,
           0.5,
           0.5,
           0.5,
           0.5,
           0.5,
           0.5,
           0.5,
           0.5,
           0.5,
           0.5,
           0.5,
           0.5,
           0.5,
           0.5,
           0.5,
           0.5,
           0.5,
           0.5,
           0.5,
           0.5,
           0.5,
           0.5,
           0.5,
           0.5,
           0.5,
           0.5,
           0.5
          ],
          "sizemode": "area",
          "sizeref": 0.00125,
          "symbol": "circle"
         },
         "mode": "markers+text",
         "name": "blue",
         "scene": "scene",
         "showlegend": true,
         "text": [
          "研討會",
          "負債",
          "於今",
          "面臨",
          "議題",
          "八月",
          "內行人_點出",
          "建築物",
          "核能",
          "全台",
          "支援",
          "富蘭克林_坦伯頓",
          "冠軍",
          "央行",
          "檢核",
          "確保",
          "就業",
          "紀錄",
          "地化",
          "國外",
          "買氣",
          "運維",
          "持有",
          "相關",
          "解方",
          "一表看",
          "交付",
          "意外",
          "表現",
          "健康",
          "台美",
          "公益",
          "將以",
          "還在",
          "門檻",
          "引領",
          "提到",
          "案例",
          "態度",
          "幅度",
          "負擔",
          "連鎖_平價",
          "指引",
          "大增",
          "關聯性",
          "需求",
          "反對",
          "過關",
          "用電",
          "概念",
          "龍潭",
          "齊聚一堂",
          "民間",
          "仲業",
          "初步",
          "見證",
          "邀請",
          "業界",
          "立法院",
          "看法",
          "玉山",
          "下午",
          "帶領",
          "累積",
          "台泥",
          "結構",
          "電力公司",
          "旅客",
          "華視",
          "扣件",
          "高峰",
          "勞動力",
          "供應",
          "電纜",
          "空間",
          "比一比",
          "驅動",
          "第三次",
          "潔淨",
          "涵蓋",
          "鼓勵",
          "經歷",
          "剩下",
          "里程碑",
          "預期",
          "雙雙_嚇跌",
          "租稅",
          "進口",
          "海線",
          "獲配",
          "以利",
          "多元",
          "店租",
          "下滑",
          "建築",
          "啟動",
          "環評",
          "生意",
          "投信",
          "用於",
          "半導體",
          "新鮮空氣",
          "決策",
          "學生",
          "業都",
          "知識",
          "位置",
          "天然氣",
          "先前",
          "中科",
          "額度",
          "退出",
          "中壢_工業區",
          "思考",
          "壓低",
          "器材",
          "上班族",
          "日益嚴重",
          "彭博",
          "股價",
          "新台幣",
          "支付",
          "環境保護",
          "公股",
          "貨櫃",
          "對外",
          "外商",
          "優質",
          "燃氫",
          "申報",
          "浮台",
          "流程",
          "營收破",
          "同仁",
          "華航",
          "探討",
          "處於",
          "五十年",
          "品牌",
          "第一步",
          "導致",
          "估計",
          "進度",
          "台英",
          "議價",
          "降息",
          "解決",
          "裝置",
          "檢測",
          "新聞稿",
          "年度",
          "海運",
          "燈號",
          "即可",
          "民眾",
          "混凝土",
          "縣市",
          "效能",
          "穩健",
          "貨幣",
          "打造",
          "攝影",
          "供電",
          "搶下_好市",
          "招商",
          "中東",
          "理事長",
          "德國",
          "產業鏈",
          "將有_四案場",
          "已於_下旬",
          "程度",
          "辨識",
          "部將",
          "日前",
          "興起",
          "工研院",
          "首批",
          "永豐",
          "允能",
          "將有",
          "世界",
          "液壓",
          "族群",
          "機構",
          "履約",
          "國人",
          "冷氣",
          "風能",
          "海洋能",
          "程序",
          "組織",
          "東森",
          "綜合",
          "董事_學會",
          "找到",
          "自年",
          "展示",
          "八年",
          "學者",
          "練台生",
          "協助",
          "高鐵",
          "近日",
          "數據",
          "解決方案",
          "危老案",
          "回升",
          "電子",
          "家電",
          "自主",
          "大戶",
          "台鹽",
          "減排",
          "減碳",
          "收購",
          "走勢",
          "表達",
          "攸關",
          "今年以來",
          "目標",
          "買得起",
          "千億",
          "中華",
          "最低工資",
          "製程",
          "深耕",
          "台大",
          "簽單",
          "備轉",
          "繳稅_等於",
          "世紀",
          "作法",
          "強化",
          "動力",
          "發行",
          "彰芳_西島",
          "接軌",
          "價格",
          "正向",
          "鎖定",
          "萬噸",
          "這一",
          "台積_電棄",
          "綠電",
          "轉向",
          "截標",
          "造價",
          "比例",
          "提高",
          "接近",
          "合計",
          "下降",
          "安排",
          "國泰",
          "一年",
          "變電站",
          "參與",
          "高科技",
          "授信",
          "澳洲",
          "銀行",
          "更是",
          "業績",
          "下半年",
          "簡稱",
          "承銷",
          "風力",
          "億度",
          "花蓮",
          "去年",
          "副總",
          "交易所",
          "年減",
          "別墅",
          "世華",
          "一半",
          "牽動",
          "市府",
          "推升",
          "聯網",
          "建廠",
          "證券",
          "之下",
          "淡水",
          "給付",
          "專家",
          "參考",
          "巨蛋",
          "收入",
          "產品",
          "答案",
          "設施",
          "通訊",
          "社會",
          "成本",
          "生成式",
          "制定",
          "尚未",
          "股票"
         ],
         "type": "scatter3d",
         "x": [
          0.2961816191673279,
          -0.2939201593399048,
          -0.984087347984314,
          1.1402677297592163,
          1.088365912437439,
          -1.10982346534729,
          0.4610264301300049,
          -0.21881495416164398,
          0.206364244222641,
          -0.7498626112937927,
          0.279585599899292,
          0.4101629853248596,
          -0.18216100335121155,
          -1.5142192840576172,
          -0.14768977463245392,
          0.9458976984024048,
          0.022673290222883224,
          -0.35182732343673706,
          0.8388872742652893,
          0.12818071246147156,
          -0.6752528548240662,
          0.5470337271690369,
          -0.4311269223690033,
          0.7026242613792419,
          0.41466331481933594,
          -0.6350696682929993,
          -0.2424127459526062,
          -0.1220904216170311,
          0.16373631358146667,
          0.7692529559135437,
          0.533001720905304,
          -0.0035690912045538425,
          0.4010922610759735,
          -0.19599786400794983,
          0.0677340179681778,
          1.055658221244812,
          -0.2642410397529602,
          0.16627666354179382,
          -0.4514087438583374,
          -0.4491756558418274,
          -0.5776849985122681,
          -1.376513957977295,
          0.09557896852493286,
          -0.3249497413635254,
          0.7214677333831787,
          0.3968105614185333,
          -0.9103381633758545,
          -0.22557979822158813,
          0.3009745180606842,
          0.37323611974716187,
          -1.1053653955459595,
          -0.5632660388946533,
          0.9031122922897339,
          -0.2796114981174469,
          -0.2046283781528473,
          0.14434334635734558,
          0.09791138023138046,
          0.2494124174118042,
          -1.396586537361145,
          -0.3892703652381897,
          -0.24813833832740784,
          -0.19273969531059265,
          0.31604620814323425,
          -0.041093457490205765,
          0.7302645444869995,
          0.5629590153694153,
          0.24207262694835663,
          -0.023206239566206932,
          -0.6174330711364746,
          0.2995353639125824,
          0.9121362566947937,
          0.5642775297164917,
          1.0939973592758179,
          0.2979651689529419,
          -0.03184029087424278,
          -0.8018903136253357,
          0.9617550373077393,
          -0.38922253251075745,
          1.0463370084762573,
          0.5091663599014282,
          0.759637713432312,
          -0.04787377268075943,
          -0.5004376173019409,
          1.2119557857513428,
          -0.6814076900482178,
          -0.4898679852485657,
          0.1380573958158493,
          0.03492126986384392,
          -0.09037648141384125,
          -0.5522953867912292,
          -0.014866114594042301,
          0.9782683849334717,
          -1.170749306678772,
          -0.8668332695960999,
          0.3365529179573059,
          -0.15843771398067474,
          -0.6561385989189148,
          -1.1023699045181274,
          -0.2988758385181427,
          0.3890416622161865,
          1.299278736114502,
          -0.7408433556556702,
          -0.31892865896224976,
          0.21513371169567108,
          0.2727498412132263,
          0.4379854202270508,
          -0.009229753166437149,
          0.38129571080207825,
          -0.7076165080070496,
          -0.26728305220603943,
          -0.40392541885375977,
          -0.019006647169589996,
          -1.096434235572815,
          0.30929023027420044,
          -0.3250502049922943,
          0.22849105298519135,
          -0.4398154020309448,
          0.40443387627601624,
          -0.1905413269996643,
          -0.2979845702648163,
          -1.33249831199646,
          -0.10575471818447113,
          0.35608088970184326,
          -0.2840881049633026,
          -0.23331211507320404,
          -0.21592935919761658,
          -0.3351806402206421,
          0.38799580931663513,
          0.17291538417339325,
          0.04015083983540535,
          0.07001117616891861,
          -0.08115904033184052,
          -0.8438895344734192,
          0.12859253585338593,
          -0.43046900629997253,
          0.9350455403327942,
          0.25512033700942993,
          0.8393555283546448,
          0.2069847583770752,
          0.6376147270202637,
          -0.10404296219348907,
          -0.2922818958759308,
          0.6836735010147095,
          0.5256232023239136,
          -0.32741299271583557,
          -0.3548262417316437,
          0.7216235995292664,
          0.015086066909134388,
          0.32607752084732056,
          -0.24815978109836578,
          -0.27232998609542847,
          0.09808827936649323,
          -0.2933042347431183,
          -0.39990147948265076,
          -0.39004048705101013,
          0.08267135918140411,
          -1.0269980430603027,
          0.2412252128124237,
          0.9050046801567078,
          -0.10234368592500687,
          0.5788813233375549,
          -0.29392847418785095,
          1.074194073677063,
          -0.44232580065727234,
          -0.3427090048789978,
          0.13730093836784363,
          -0.3054223358631134,
          0.11487429589033127,
          0.972069263458252,
          -0.38639068603515625,
          -0.298643559217453,
          0.19781452417373657,
          0.13676652312278748,
          0.05353206768631935,
          -0.49640968441963196,
          0.2148573100566864,
          1.0649549961090088,
          0.1830567568540573,
          -0.29035189747810364,
          -0.38436591625213623,
          -0.012018198147416115,
          0.7383900880813599,
          0.48382022976875305,
          0.022945182397961617,
          0.3939722776412964,
          0.10724987089633942,
          -0.7853550314903259,
          -0.6015409827232361,
          0.13830743730068207,
          0.519249439239502,
          -0.16855022311210632,
          0.8294558525085449,
          -0.5133909583091736,
          -0.24816367030143738,
          0.34988880157470703,
          0.18194693326950073,
          0.10585174709558487,
          0.14879480004310608,
          -0.5851292610168457,
          0.029481789097189903,
          -0.35909363627433777,
          1.5557752847671509,
          -0.19820883870124817,
          -0.44160863757133484,
          -0.14897233247756958,
          1.0071982145309448,
          -0.4430401921272278,
          -0.5720650553703308,
          0.3708624243736267,
          -0.08858469873666763,
          0.709869921207428,
          -0.0526413731276989,
          0.11006242781877518,
          0.3016984462738037,
          1.6928150653839111,
          -0.24486495554447174,
          -0.3954550623893738,
          -0.22281168401241302,
          0.5490822792053223,
          -0.3009887933731079,
          1.328566312789917,
          0.11234398931264877,
          -0.6185781359672546,
          -0.12094035744667053,
          -0.7984434962272644,
          0.8646714091300964,
          1.06955885887146,
          -0.026203809306025505,
          -1.5896905660629272,
          -0.5544883012771606,
          -0.17613646388053894,
          0.20518207550048828,
          0.2728143036365509,
          1.7269318103790283,
          0.19345751404762268,
          -0.38162410259246826,
          -0.09384670853614807,
          1.3287769556045532,
          -0.703303337097168,
          0.3318999707698822,
          0.23346096277236938,
          -0.0679422989487648,
          -0.2795214056968689,
          -0.7149712443351746,
          0.7722287178039551,
          0.02123953215777874,
          -0.645572304725647,
          -0.9421066045761108,
          -0.40196675062179565,
          0.34637123346328735,
          -0.290788471698761,
          -0.6879503130912781,
          -0.24521367251873016,
          -0.14818082749843597,
          -0.8565989136695862,
          -0.7129886150360107,
          -0.26153817772865295,
          0.2852118909358978,
          0.7534604072570801,
          0.11502297967672348,
          0.37507352232933044,
          -0.731432318687439,
          0.589148998260498,
          -0.025141870602965355,
          -0.6363903880119324,
          -0.033884819597005844,
          0.13883881270885468,
          0.4892285466194153,
          -0.21516333520412445,
          -0.3548646569252014,
          -0.8328267931938171,
          0.15105049312114716,
          0.31007248163223267,
          -0.6004248261451721,
          -0.286805659532547,
          -0.5168845653533936,
          -0.4205600321292877,
          0.0005848196451552212,
          -0.5302792191505432,
          -0.12734921276569366,
          0.39849019050598145,
          -0.11095596104860306,
          -0.12967664003372192,
          0.10770794004201889,
          -0.5235607028007507,
          -0.22123506665229797,
          -1.3648420572280884,
          0.09485220909118652,
          -0.43581464886665344,
          -0.581965982913971,
          0.5808082222938538,
          -0.208091601729393,
          -0.31582000851631165,
          1.2018877267837524,
          1.1343045234680176,
          -0.083730548620224,
          0.4540046155452728,
          0.566860556602478,
          -0.25661501288414,
          0.21598416566848755
         ],
         "y": [
          -0.2721908986568451,
          0.1631929874420166,
          0.2599431574344635,
          0.01916251704096794,
          -0.8553897738456726,
          -0.030115948989987373,
          -0.25586676597595215,
          0.7171853184700012,
          0.4192545413970947,
          0.6139532923698425,
          0.2988220453262329,
          -0.7104327082633972,
          -0.7161035537719727,
          -1.0266634225845337,
          0.240634486079216,
          0.9074820876121521,
          -0.6949861645698547,
          0.06386613845825195,
          0.522463858127594,
          -0.13457079231739044,
          -0.15504683554172516,
          0.9817655086517334,
          0.16738325357437134,
          0.2908773422241211,
          -0.04494214057922363,
          -0.10335499048233032,
          0.6465020775794983,
          -0.1810837686061859,
          -0.6642153263092041,
          -0.34175655245780945,
          -0.11439122259616852,
          -0.35187095403671265,
          0.019514253363013268,
          0.003259812481701374,
          1.141283392906189,
          -0.5063800811767578,
          -0.34023189544677734,
          -0.002648582449182868,
          -0.3980940282344818,
          0.01741173304617405,
          0.20738573372364044,
          0.5147260427474976,
          -0.15796397626399994,
          -0.015966789796948433,
          0.5995320677757263,
          0.27868542075157166,
          -0.20053289830684662,
          0.00669775390997529,
          0.8065954446792603,
          -0.10866080224514008,
          0.1759747862815857,
          -0.43609049916267395,
          0.19578932225704193,
          -0.6888747215270996,
          0.007278602570295334,
          -0.19050873816013336,
          -0.8991026878356934,
          -0.16605858504772186,
          -0.09153159707784653,
          -0.35050511360168457,
          -0.6339153051376343,
          -0.06252633035182953,
          -0.4363197386264801,
          1.3149728775024414,
          0.23934084177017212,
          0.5317022800445557,
          -0.18766102194786072,
          -0.3236417770385742,
          0.1975809782743454,
          0.07016412913799286,
          -0.46346744894981384,
          -0.14234662055969238,
          0.8919346928596497,
          0.6155692338943481,
          0.562325656414032,
          -0.24726948142051697,
          -0.5897998213768005,
          1.3212236166000366,
          -0.01268740650266409,
          0.03961586952209473,
          0.29022130370140076,
          -0.14188717305660248,
          0.09842445701360703,
          0.4843902587890625,
          -0.21439111232757568,
          -0.08583590388298035,
          -0.16580407321453094,
          -0.08084140717983246,
          0.02171516790986061,
          1.3606113195419312,
          0.20891496539115906,
          0.1900177150964737,
          -0.06065690517425537,
          -0.6420170664787292,
          -0.07108906656503677,
          0.2647196054458618,
          1.556054949760437,
          0.5090789198875427,
          -0.3816284239292145,
          0.6157954335212708,
          -0.49077948927879333,
          0.14683517813682556,
          -0.34797540307044983,
          -0.21159030497074127,
          -0.603728175163269,
          -0.07680732756853104,
          0.18872542679309845,
          0.9592351913452148,
          -0.08563529700040817,
          -0.20317503809928894,
          0.2250128984451294,
          0.09854428470134735,
          0.11088213324546814,
          -0.03513694554567337,
          0.42516693472862244,
          -0.1922541707754135,
          -1.0495065450668335,
          -0.4730779230594635,
          -1.0978957414627075,
          -0.11322283744812012,
          0.1872539073228836,
          -0.24984773993492126,
          -0.22706182301044464,
          -0.7349329590797424,
          0.42807772755622864,
          0.00010164328705286607,
          -0.3421113193035126,
          0.0919632762670517,
          0.5216547846794128,
          -0.09414311498403549,
          0.7218223810195923,
          0.24269156157970428,
          0.23632732033729553,
          -0.1863560974597931,
          -0.35187584161758423,
          -0.5771842002868652,
          -0.2187650501728058,
          -0.27510789036750793,
          -0.5785583257675171,
          -0.21511928737163544,
          0.13373376429080963,
          0.04873797297477722,
          0.46066826581954956,
          -0.07203857600688934,
          0.19771720468997955,
          -0.42120808362960815,
          -0.10582908242940903,
          2.4975717067718506,
          0.15473970770835876,
          -0.5018981695175171,
          0.25088027119636536,
          -0.32413366436958313,
          -0.26356250047683716,
          0.4273141622543335,
          0.09129591286182404,
          0.6019436717033386,
          -0.47544893622398376,
          0.3675561547279358,
          -0.0752592533826828,
          -0.6852980852127075,
          0.2247343361377716,
          -0.14252503216266632,
          1.036681056022644,
          -0.48471611738204956,
          0.6013395190238953,
          -0.15839877724647522,
          -0.6544816493988037,
          -0.3043804466724396,
          0.29186731576919556,
          0.2697620093822479,
          0.5719670653343201,
          0.32126152515411377,
          0.2173188328742981,
          -0.21234263479709625,
          -0.7365812659263611,
          -0.4378598928451538,
          -0.5241453051567078,
          -0.38279035687446594,
          -0.7726612091064453,
          0.738898754119873,
          0.21677742898464203,
          -0.983534574508667,
          0.41456204652786255,
          -0.4020887613296509,
          -1.1037049293518066,
          0.01962326280772686,
          -0.5246978402137756,
          0.03578325733542442,
          0.4295029640197754,
          0.630078136920929,
          0.8951368927955627,
          -0.33852675557136536,
          -0.1846003532409668,
          -0.2934268116950989,
          -0.5573965907096863,
          -0.010861949995160103,
          -0.1357516348361969,
          -0.04535039886832237,
          -0.28118428587913513,
          -0.1696654111146927,
          0.008420025929808617,
          -0.14457179605960846,
          -0.36501169204711914,
          -0.31619584560394287,
          -0.8884419798851013,
          -0.08381130546331406,
          -0.42971089482307434,
          -0.12171436101198196,
          -0.259246289730072,
          -0.015314839780330658,
          0.23013828694820404,
          0.03933916985988617,
          -0.15109455585479736,
          0.10565826296806335,
          0.10143406689167023,
          0.4863647520542145,
          -0.33602869510650635,
          -0.359296590089798,
          -0.2617250978946686,
          -0.2983701527118683,
          0.565477728843689,
          0.09312766790390015,
          0.2655268609523773,
          -0.05682414397597313,
          -0.10359599441289902,
          0.11663045734167099,
          -0.6284397840499878,
          0.012607716955244541,
          0.3551737368106842,
          1.240006685256958,
          -0.9536939859390259,
          0.2369231879711151,
          0.1272248774766922,
          0.10908450186252594,
          -0.32965460419654846,
          -0.5889679789543152,
          0.8372809886932373,
          -0.9904057383537292,
          0.538964569568634,
          -0.3040364682674408,
          0.07967417687177658,
          0.6342834234237671,
          0.07813730090856552,
          -0.5023433566093445,
          0.8518603444099426,
          -0.1949440836906433,
          0.9596969485282898,
          0.23285675048828125,
          1.2111576795578003,
          1.325448989868164,
          0.05109068751335144,
          0.7106752395629883,
          0.26257580518722534,
          0.20188525319099426,
          -1.3164664506912231,
          0.4531785249710083,
          1.62922203540802,
          0.2984822392463684,
          -0.31530889868736267,
          -0.05410975217819214,
          -0.4368589222431183,
          -1.4735910892486572,
          -0.2290497124195099,
          -0.13164284825325012,
          -0.1265372782945633,
          -0.28566524386405945,
          -0.43476277589797974,
          2.1367831230163574,
          1.5095593929290771,
          0.06320895254611969,
          -0.31610479950904846,
          -0.24743212759494781,
          -1.3393255472183228,
          0.016909174621105194,
          -0.10810922831296921,
          -1.1835861206054688,
          0.3160052001476288,
          -0.2558588683605194,
          0.2898392379283905,
          -0.013821970671415329,
          -0.14376607537269592,
          0.22824013233184814,
          -1.0518735647201538,
          -0.22630353271961212,
          0.03328065574169159,
          -0.1684102714061737,
          -1.1117994785308838,
          -0.13709712028503418,
          -0.04869479313492775,
          0.3924802541732788,
          -0.3447229862213135,
          -0.028257103636860847,
          1.3456400632858276,
          -0.13212016224861145,
          -0.9840441942214966,
          1.0265716314315796,
          -0.2879750430583954,
          0.15795554220676422,
          0.049202267080545425,
          -0.8531668186187744
         ],
         "z": [
          -0.057453472167253494,
          -0.40444955229759216,
          1.1548120975494385,
          -0.5911157131195068,
          -0.11430450528860092,
          -0.36309152841567993,
          0.08658608794212341,
          -0.04432244226336479,
          0.09008694440126419,
          -0.2980829179286957,
          0.09385234117507935,
          0.014555267058312893,
          0.34940412640571594,
          -0.11143053323030472,
          0.11954265832901001,
          -0.05613534152507782,
          -0.23419331014156342,
          -0.2596814036369324,
          0.20517505705356598,
          -0.12919048964977264,
          -0.4787452816963196,
          0.5682605504989624,
          0.3045622706413269,
          0.19990260899066925,
          -0.08588958531618118,
          -0.07520880550146103,
          1.5278812646865845,
          -0.0554748997092247,
          -1.0645867586135864,
          -0.5243473052978516,
          -0.043369829654693604,
          -0.09801127016544342,
          0.007724427152425051,
          0.011827105656266212,
          -0.1718415915966034,
          -0.15118379890918732,
          0.9565036296844482,
          0.11366963386535645,
          -0.08351244032382965,
          -1.1319483518600464,
          -0.8848588466644287,
          -1.2809187173843384,
          -0.08010008931159973,
          -0.36479651927948,
          0.11293205618858337,
          -1.0446221828460693,
          0.014896254986524582,
          0.06729903817176819,
          -1.0217570066452026,
          -0.23908457159996033,
          0.1399131715297699,
          -0.2734440863132477,
          -0.7252241373062134,
          -0.11122358590364456,
          0.40192165970802307,
          0.17455270886421204,
          0.5916452407836914,
          -0.10913711786270142,
          1.688713788986206,
          -0.1361514925956726,
          0.5366194248199463,
          0.5327704548835754,
          0.30342409014701843,
          -0.10546038299798965,
          1.2369837760925293,
          -0.06824104487895966,
          0.32516202330589294,
          -0.38470157980918884,
          0.501097559928894,
          -0.04462294653058052,
          0.10940511524677277,
          -0.510351300239563,
          -0.4905763864517212,
          0.7225989103317261,
          -0.14899258315563202,
          -0.321911096572876,
          -0.22924424707889557,
          0.8261336088180542,
          0.4017380177974701,
          -0.05237846449017525,
          -0.04857899993658066,
          -0.11635342240333557,
          -0.40050891041755676,
          0.6330650448799133,
          -0.9552425146102905,
          0.8795862197875977,
          -0.33363595604896545,
          -0.0031659009400755167,
          -0.27097266912460327,
          0.29188406467437744,
          0.09853106737136841,
          -0.45072439312934875,
          0.18519659340381622,
          -0.5854297876358032,
          -0.16153663396835327,
          0.9328562617301941,
          1.664124608039856,
          -0.8204317688941956,
          0.10719238221645355,
          0.021274494007229805,
          -0.14594461023807526,
          -0.473674476146698,
          -0.17070508003234863,
          -0.15986879169940948,
          -0.03436698392033577,
          -0.025564972311258316,
          -0.03697606921195984,
          0.09626181423664093,
          0.7803913950920105,
          -0.11888305842876434,
          -0.3588124215602875,
          0.7258954644203186,
          0.004824896343052387,
          0.0018591276602819562,
          -0.0470057912170887,
          -0.13830804824829102,
          -0.4777892231941223,
          -0.2062106877565384,
          0.539013147354126,
          -0.10015290975570679,
          -1.1798996925354004,
          0.11061375588178635,
          0.10573887825012207,
          0.39760667085647583,
          0.34566596150398254,
          0.06788761168718338,
          0.7900061011314392,
          -0.2321920245885849,
          0.11924359947443008,
          0.1330084353685379,
          0.10046233236789703,
          0.07540024816989899,
          -0.7788257598876953,
          0.15325704216957092,
          -0.041768599301576614,
          -0.19135510921478271,
          -0.23600070178508759,
          0.13497669994831085,
          -0.30566659569740295,
          -0.4280412495136261,
          -0.41517743468284607,
          -0.17565496265888214,
          -0.014746767468750477,
          0.045940130949020386,
          0.010015018284320831,
          -0.4832283854484558,
          -0.46703222393989563,
          -0.27054563164711,
          -0.23586487770080566,
          0.9704954028129578,
          -0.025782575830817223,
          -0.15035901963710785,
          -0.20399898290634155,
          0.29540687799453735,
          -0.48651957511901855,
          0.8063507080078125,
          -0.7902126312255859,
          -0.09660980850458145,
          -0.4289705157279968,
          -0.2575172483921051,
          0.03613666817545891,
          0.0241578109562397,
          -0.3395228981971741,
          0.7089734673500061,
          0.39717531204223633,
          -0.3446323275566101,
          1.4546157121658325,
          0.3199569880962372,
          -0.16537600755691528,
          0.7810901403427124,
          0.1525699496269226,
          -0.06448185443878174,
          0.050967779010534286,
          -0.04768825322389603,
          0.9468040466308594,
          -0.03887895494699478,
          0.8423139452934265,
          -0.014009597711265087,
          0.4641227722167969,
          0.6604005098342896,
          -0.11740340292453766,
          0.1858835518360138,
          0.06273265182971954,
          -0.050920188426971436,
          0.0024241656064987183,
          -0.0018416446400806308,
          -0.1932351142168045,
          -0.028951073065400124,
          1.7962369918823242,
          0.23605069518089294,
          0.6192687153816223,
          0.22603599727153778,
          0.0429333820939064,
          0.09218872338533401,
          0.31002336740493774,
          -0.09721412509679794,
          0.5630000829696655,
          0.12065330892801285,
          0.11224092543125153,
          0.01804838702082634,
          0.716325581073761,
          0.44795405864715576,
          0.08968428522348404,
          0.22330518066883087,
          0.28437963128089905,
          -0.33330780267715454,
          -0.2422271966934204,
          -0.7589312791824341,
          0.10913287848234177,
          -0.10090778768062592,
          0.2823493182659149,
          -0.5595606565475464,
          0.4039307236671448,
          -0.1615670621395111,
          -0.7111366987228394,
          -0.0806540846824646,
          -0.45721977949142456,
          0.3254145681858063,
          0.3645699620246887,
          -0.18992044031620026,
          -0.025182543322443962,
          0.3886740505695343,
          -0.42404496669769287,
          0.09278120845556259,
          0.2166239321231842,
          -0.3531617522239685,
          0.15168848633766174,
          0.28742361068725586,
          -1.3024327754974365,
          -0.35492682456970215,
          0.17756253480911255,
          0.6115233898162842,
          -0.21622812747955322,
          -0.09248083084821701,
          -0.33875685930252075,
          -0.37898263335227966,
          0.7236616015434265,
          -0.5815357565879822,
          -0.7610164284706116,
          -0.18154218792915344,
          -0.0814211443066597,
          -0.7064282894134521,
          -0.09428032487630844,
          -0.11723353713750839,
          -0.6215940117835999,
          -0.24585233628749847,
          0.6257674098014832,
          0.4138248860836029,
          -0.34090572595596313,
          -0.7133476138114929,
          -0.326445996761322,
          -0.23642300069332123,
          -0.6176184415817261,
          0.09066945314407349,
          0.1384042203426361,
          -0.7360191941261292,
          0.568627655506134,
          0.9528803825378418,
          -0.10259570181369781,
          0.0809333547949791,
          0.3503912091255188,
          1.1352876424789429,
          0.077733613550663,
          -0.5359014868736267,
          -0.40537378191947937,
          0.30540770292282104,
          0.07556235790252686,
          1.0505554676055908,
          -0.4143677055835724,
          0.09882450103759766,
          -0.20441585779190063,
          0.29444441199302673,
          0.903622031211853,
          0.20083200931549072,
          0.033752936869859695,
          0.3879230320453644,
          -0.18600188195705414,
          -0.08108499646186829,
          0.04794197529554367,
          -0.17308661341667175,
          -0.12199971079826355,
          -0.1414540410041809,
          0.43695518374443054,
          -0.3859724998474121,
          -0.3653974235057831,
          -0.08377589285373688,
          -0.36139270663261414,
          -0.009661621414124966,
          0.08327483385801315,
          -0.7501749992370605,
          -0.34179410338401794,
          0.05095337703824043,
          -0.01688484475016594,
          -0.1558109074831009,
          -0.7344358563423157,
          -0.9381383061408997,
          -0.3248196244239807,
          0.04374879226088524,
          0.22310034930706024,
          -0.337422251701355
         ]
        }
       ],
       "layout": {
        "height": 800,
        "legend": {
         "itemsizing": "constant",
         "title": {
          "text": "color"
         },
         "tracegroupgap": 0
        },
        "margin": {
         "t": 60
        },
        "scene": {
         "domain": {
          "x": [
           0,
           1
          ],
          "y": [
           0,
           1
          ]
         },
         "xaxis": {
          "title": {
           "text": "dim1"
          }
         },
         "yaxis": {
          "title": {
           "text": "dim2"
          }
         },
         "zaxis": {
          "title": {
           "text": "dim3"
          }
         }
        },
        "template": {
         "data": {
          "bar": [
           {
            "error_x": {
             "color": "#2a3f5f"
            },
            "error_y": {
             "color": "#2a3f5f"
            },
            "marker": {
             "line": {
              "color": "#E5ECF6",
              "width": 0.5
             },
             "pattern": {
              "fillmode": "overlay",
              "size": 10,
              "solidity": 0.2
             }
            },
            "type": "bar"
           }
          ],
          "barpolar": [
           {
            "marker": {
             "line": {
              "color": "#E5ECF6",
              "width": 0.5
             },
             "pattern": {
              "fillmode": "overlay",
              "size": 10,
              "solidity": 0.2
             }
            },
            "type": "barpolar"
           }
          ],
          "carpet": [
           {
            "aaxis": {
             "endlinecolor": "#2a3f5f",
             "gridcolor": "white",
             "linecolor": "white",
             "minorgridcolor": "white",
             "startlinecolor": "#2a3f5f"
            },
            "baxis": {
             "endlinecolor": "#2a3f5f",
             "gridcolor": "white",
             "linecolor": "white",
             "minorgridcolor": "white",
             "startlinecolor": "#2a3f5f"
            },
            "type": "carpet"
           }
          ],
          "choropleth": [
           {
            "colorbar": {
             "outlinewidth": 0,
             "ticks": ""
            },
            "type": "choropleth"
           }
          ],
          "contour": [
           {
            "colorbar": {
             "outlinewidth": 0,
             "ticks": ""
            },
            "colorscale": [
             [
              0,
              "#0d0887"
             ],
             [
              0.1111111111111111,
              "#46039f"
             ],
             [
              0.2222222222222222,
              "#7201a8"
             ],
             [
              0.3333333333333333,
              "#9c179e"
             ],
             [
              0.4444444444444444,
              "#bd3786"
             ],
             [
              0.5555555555555556,
              "#d8576b"
             ],
             [
              0.6666666666666666,
              "#ed7953"
             ],
             [
              0.7777777777777778,
              "#fb9f3a"
             ],
             [
              0.8888888888888888,
              "#fdca26"
             ],
             [
              1,
              "#f0f921"
             ]
            ],
            "type": "contour"
           }
          ],
          "contourcarpet": [
           {
            "colorbar": {
             "outlinewidth": 0,
             "ticks": ""
            },
            "type": "contourcarpet"
           }
          ],
          "heatmap": [
           {
            "colorbar": {
             "outlinewidth": 0,
             "ticks": ""
            },
            "colorscale": [
             [
              0,
              "#0d0887"
             ],
             [
              0.1111111111111111,
              "#46039f"
             ],
             [
              0.2222222222222222,
              "#7201a8"
             ],
             [
              0.3333333333333333,
              "#9c179e"
             ],
             [
              0.4444444444444444,
              "#bd3786"
             ],
             [
              0.5555555555555556,
              "#d8576b"
             ],
             [
              0.6666666666666666,
              "#ed7953"
             ],
             [
              0.7777777777777778,
              "#fb9f3a"
             ],
             [
              0.8888888888888888,
              "#fdca26"
             ],
             [
              1,
              "#f0f921"
             ]
            ],
            "type": "heatmap"
           }
          ],
          "heatmapgl": [
           {
            "colorbar": {
             "outlinewidth": 0,
             "ticks": ""
            },
            "colorscale": [
             [
              0,
              "#0d0887"
             ],
             [
              0.1111111111111111,
              "#46039f"
             ],
             [
              0.2222222222222222,
              "#7201a8"
             ],
             [
              0.3333333333333333,
              "#9c179e"
             ],
             [
              0.4444444444444444,
              "#bd3786"
             ],
             [
              0.5555555555555556,
              "#d8576b"
             ],
             [
              0.6666666666666666,
              "#ed7953"
             ],
             [
              0.7777777777777778,
              "#fb9f3a"
             ],
             [
              0.8888888888888888,
              "#fdca26"
             ],
             [
              1,
              "#f0f921"
             ]
            ],
            "type": "heatmapgl"
           }
          ],
          "histogram": [
           {
            "marker": {
             "pattern": {
              "fillmode": "overlay",
              "size": 10,
              "solidity": 0.2
             }
            },
            "type": "histogram"
           }
          ],
          "histogram2d": [
           {
            "colorbar": {
             "outlinewidth": 0,
             "ticks": ""
            },
            "colorscale": [
             [
              0,
              "#0d0887"
             ],
             [
              0.1111111111111111,
              "#46039f"
             ],
             [
              0.2222222222222222,
              "#7201a8"
             ],
             [
              0.3333333333333333,
              "#9c179e"
             ],
             [
              0.4444444444444444,
              "#bd3786"
             ],
             [
              0.5555555555555556,
              "#d8576b"
             ],
             [
              0.6666666666666666,
              "#ed7953"
             ],
             [
              0.7777777777777778,
              "#fb9f3a"
             ],
             [
              0.8888888888888888,
              "#fdca26"
             ],
             [
              1,
              "#f0f921"
             ]
            ],
            "type": "histogram2d"
           }
          ],
          "histogram2dcontour": [
           {
            "colorbar": {
             "outlinewidth": 0,
             "ticks": ""
            },
            "colorscale": [
             [
              0,
              "#0d0887"
             ],
             [
              0.1111111111111111,
              "#46039f"
             ],
             [
              0.2222222222222222,
              "#7201a8"
             ],
             [
              0.3333333333333333,
              "#9c179e"
             ],
             [
              0.4444444444444444,
              "#bd3786"
             ],
             [
              0.5555555555555556,
              "#d8576b"
             ],
             [
              0.6666666666666666,
              "#ed7953"
             ],
             [
              0.7777777777777778,
              "#fb9f3a"
             ],
             [
              0.8888888888888888,
              "#fdca26"
             ],
             [
              1,
              "#f0f921"
             ]
            ],
            "type": "histogram2dcontour"
           }
          ],
          "mesh3d": [
           {
            "colorbar": {
             "outlinewidth": 0,
             "ticks": ""
            },
            "type": "mesh3d"
           }
          ],
          "parcoords": [
           {
            "line": {
             "colorbar": {
              "outlinewidth": 0,
              "ticks": ""
             }
            },
            "type": "parcoords"
           }
          ],
          "pie": [
           {
            "automargin": true,
            "type": "pie"
           }
          ],
          "scatter": [
           {
            "fillpattern": {
             "fillmode": "overlay",
             "size": 10,
             "solidity": 0.2
            },
            "type": "scatter"
           }
          ],
          "scatter3d": [
           {
            "line": {
             "colorbar": {
              "outlinewidth": 0,
              "ticks": ""
             }
            },
            "marker": {
             "colorbar": {
              "outlinewidth": 0,
              "ticks": ""
             }
            },
            "type": "scatter3d"
           }
          ],
          "scattercarpet": [
           {
            "marker": {
             "colorbar": {
              "outlinewidth": 0,
              "ticks": ""
             }
            },
            "type": "scattercarpet"
           }
          ],
          "scattergeo": [
           {
            "marker": {
             "colorbar": {
              "outlinewidth": 0,
              "ticks": ""
             }
            },
            "type": "scattergeo"
           }
          ],
          "scattergl": [
           {
            "marker": {
             "colorbar": {
              "outlinewidth": 0,
              "ticks": ""
             }
            },
            "type": "scattergl"
           }
          ],
          "scattermapbox": [
           {
            "marker": {
             "colorbar": {
              "outlinewidth": 0,
              "ticks": ""
             }
            },
            "type": "scattermapbox"
           }
          ],
          "scatterpolar": [
           {
            "marker": {
             "colorbar": {
              "outlinewidth": 0,
              "ticks": ""
             }
            },
            "type": "scatterpolar"
           }
          ],
          "scatterpolargl": [
           {
            "marker": {
             "colorbar": {
              "outlinewidth": 0,
              "ticks": ""
             }
            },
            "type": "scatterpolargl"
           }
          ],
          "scatterternary": [
           {
            "marker": {
             "colorbar": {
              "outlinewidth": 0,
              "ticks": ""
             }
            },
            "type": "scatterternary"
           }
          ],
          "surface": [
           {
            "colorbar": {
             "outlinewidth": 0,
             "ticks": ""
            },
            "colorscale": [
             [
              0,
              "#0d0887"
             ],
             [
              0.1111111111111111,
              "#46039f"
             ],
             [
              0.2222222222222222,
              "#7201a8"
             ],
             [
              0.3333333333333333,
              "#9c179e"
             ],
             [
              0.4444444444444444,
              "#bd3786"
             ],
             [
              0.5555555555555556,
              "#d8576b"
             ],
             [
              0.6666666666666666,
              "#ed7953"
             ],
             [
              0.7777777777777778,
              "#fb9f3a"
             ],
             [
              0.8888888888888888,
              "#fdca26"
             ],
             [
              1,
              "#f0f921"
             ]
            ],
            "type": "surface"
           }
          ],
          "table": [
           {
            "cells": {
             "fill": {
              "color": "#EBF0F8"
             },
             "line": {
              "color": "white"
             }
            },
            "header": {
             "fill": {
              "color": "#C8D4E3"
             },
             "line": {
              "color": "white"
             }
            },
            "type": "table"
           }
          ]
         },
         "layout": {
          "annotationdefaults": {
           "arrowcolor": "#2a3f5f",
           "arrowhead": 0,
           "arrowwidth": 1
          },
          "autotypenumbers": "strict",
          "coloraxis": {
           "colorbar": {
            "outlinewidth": 0,
            "ticks": ""
           }
          },
          "colorscale": {
           "diverging": [
            [
             0,
             "#8e0152"
            ],
            [
             0.1,
             "#c51b7d"
            ],
            [
             0.2,
             "#de77ae"
            ],
            [
             0.3,
             "#f1b6da"
            ],
            [
             0.4,
             "#fde0ef"
            ],
            [
             0.5,
             "#f7f7f7"
            ],
            [
             0.6,
             "#e6f5d0"
            ],
            [
             0.7,
             "#b8e186"
            ],
            [
             0.8,
             "#7fbc41"
            ],
            [
             0.9,
             "#4d9221"
            ],
            [
             1,
             "#276419"
            ]
           ],
           "sequential": [
            [
             0,
             "#0d0887"
            ],
            [
             0.1111111111111111,
             "#46039f"
            ],
            [
             0.2222222222222222,
             "#7201a8"
            ],
            [
             0.3333333333333333,
             "#9c179e"
            ],
            [
             0.4444444444444444,
             "#bd3786"
            ],
            [
             0.5555555555555556,
             "#d8576b"
            ],
            [
             0.6666666666666666,
             "#ed7953"
            ],
            [
             0.7777777777777778,
             "#fb9f3a"
            ],
            [
             0.8888888888888888,
             "#fdca26"
            ],
            [
             1,
             "#f0f921"
            ]
           ],
           "sequentialminus": [
            [
             0,
             "#0d0887"
            ],
            [
             0.1111111111111111,
             "#46039f"
            ],
            [
             0.2222222222222222,
             "#7201a8"
            ],
            [
             0.3333333333333333,
             "#9c179e"
            ],
            [
             0.4444444444444444,
             "#bd3786"
            ],
            [
             0.5555555555555556,
             "#d8576b"
            ],
            [
             0.6666666666666666,
             "#ed7953"
            ],
            [
             0.7777777777777778,
             "#fb9f3a"
            ],
            [
             0.8888888888888888,
             "#fdca26"
            ],
            [
             1,
             "#f0f921"
            ]
           ]
          },
          "colorway": [
           "#636efa",
           "#EF553B",
           "#00cc96",
           "#ab63fa",
           "#FFA15A",
           "#19d3f3",
           "#FF6692",
           "#B6E880",
           "#FF97FF",
           "#FECB52"
          ],
          "font": {
           "color": "#2a3f5f"
          },
          "geo": {
           "bgcolor": "white",
           "lakecolor": "white",
           "landcolor": "#E5ECF6",
           "showlakes": true,
           "showland": true,
           "subunitcolor": "white"
          },
          "hoverlabel": {
           "align": "left"
          },
          "hovermode": "closest",
          "mapbox": {
           "style": "light"
          },
          "paper_bgcolor": "white",
          "plot_bgcolor": "#E5ECF6",
          "polar": {
           "angularaxis": {
            "gridcolor": "white",
            "linecolor": "white",
            "ticks": ""
           },
           "bgcolor": "#E5ECF6",
           "radialaxis": {
            "gridcolor": "white",
            "linecolor": "white",
            "ticks": ""
           }
          },
          "scene": {
           "xaxis": {
            "backgroundcolor": "#E5ECF6",
            "gridcolor": "white",
            "gridwidth": 2,
            "linecolor": "white",
            "showbackground": true,
            "ticks": "",
            "zerolinecolor": "white"
           },
           "yaxis": {
            "backgroundcolor": "#E5ECF6",
            "gridcolor": "white",
            "gridwidth": 2,
            "linecolor": "white",
            "showbackground": true,
            "ticks": "",
            "zerolinecolor": "white"
           },
           "zaxis": {
            "backgroundcolor": "#E5ECF6",
            "gridcolor": "white",
            "gridwidth": 2,
            "linecolor": "white",
            "showbackground": true,
            "ticks": "",
            "zerolinecolor": "white"
           }
          },
          "shapedefaults": {
           "line": {
            "color": "#2a3f5f"
           }
          },
          "ternary": {
           "aaxis": {
            "gridcolor": "white",
            "linecolor": "white",
            "ticks": ""
           },
           "baxis": {
            "gridcolor": "white",
            "linecolor": "white",
            "ticks": ""
           },
           "bgcolor": "#E5ECF6",
           "caxis": {
            "gridcolor": "white",
            "linecolor": "white",
            "ticks": ""
           }
          },
          "title": {
           "x": 0.05
          },
          "xaxis": {
           "automargin": true,
           "gridcolor": "white",
           "linecolor": "white",
           "ticks": "",
           "title": {
            "standoff": 15
           },
           "zerolinecolor": "white",
           "zerolinewidth": 2
          },
          "yaxis": {
           "automargin": true,
           "gridcolor": "white",
           "linecolor": "white",
           "ticks": "",
           "title": {
            "standoff": 15
           },
           "zerolinecolor": "white",
           "zerolinewidth": 2
          }
         }
        },
        "width": 800
       }
      }
     },
     "metadata": {},
     "output_type": "display_data"
    }
   ],
   "source": [
    "new_feat = reduceDim(feat,dim = 3,method = 'PCA' )\n",
    "print(new_feat.shape)\n",
    "word_df = pd.DataFrame({\n",
    "    \"word\":sample_words,\n",
    "    \"dim1\":new_feat[:,0],\n",
    "    \"dim2\":new_feat[:,1],\n",
    "    \"dim3\":new_feat[:,2],\n",
    "})\n",
    "plotScatter3D(word_df)"
   ]
  },
  {
   "cell_type": "markdown",
   "metadata": {},
   "source": [
    "### 3-6. 將字做分群並視覺化"
   ]
  },
  {
   "cell_type": "code",
   "execution_count": 62,
   "metadata": {},
   "outputs": [],
   "source": [
    "# 分群\n",
    "from sklearn.cluster import KMeans\n",
    "from sklearn_extra.cluster import KMedoids\n",
    "# 只使用word vector 去分群\n",
    "def cluster(X,method = 'kmeans',n = 2):\n",
    "\n",
    "    method_dict = {\n",
    "        'kmeans':KMeans(n_clusters=n, random_state=0),\n",
    "        'kmedos':KMedoids(n_clusters=n, random_state=0)\n",
    "    }\n",
    "    method_dict[method].fit(X)\n",
    "    result = method_dict[method].predict(X)\n",
    "    return result"
   ]
  },
  {
   "cell_type": "code",
   "execution_count": 63,
   "metadata": {},
   "outputs": [
    {
     "name": "stderr",
     "output_type": "stream",
     "text": [
      "/opt/anaconda3/envs/python38/lib/python3.8/site-packages/sklearn/cluster/_kmeans.py:1416: FutureWarning:\n",
      "\n",
      "The default value of `n_init` will change from 10 to 'auto' in 1.4. Set the value of `n_init` explicitly to suppress the warning\n",
      "\n"
     ]
    },
    {
     "data": {
      "application/vnd.plotly.v1+json": {
       "config": {
        "plotlyServerURL": "https://plot.ly"
       },
       "data": [
        {
         "hovertemplate": "dim1=%{x}<br>dim2=%{y}<br>dim3=%{z}<br>size=%{marker.size}<br>word=%{text}<br>color=%{marker.color}<extra></extra>",
         "legendgroup": "",
         "marker": {
          "color": [
           1,
           3,
           0,
           1,
           1,
           3,
           1,
           2,
           2,
           3,
           1,
           1,
           0,
           3,
           3,
           2,
           1,
           3,
           1,
           1,
           3,
           2,
           3,
           1,
           1,
           3,
           0,
           3,
           1,
           1,
           1,
           1,
           1,
           3,
           2,
           1,
           0,
           1,
           3,
           3,
           3,
           3,
           1,
           3,
           2,
           1,
           3,
           3,
           2,
           1,
           3,
           3,
           1,
           3,
           3,
           1,
           0,
           1,
           0,
           3,
           0,
           0,
           1,
           2,
           0,
           2,
           1,
           3,
           3,
           1,
           1,
           1,
           2,
           2,
           2,
           3,
           1,
           2,
           1,
           1,
           1,
           3,
           3,
           1,
           3,
           0,
           1,
           1,
           3,
           2,
           3,
           1,
           3,
           3,
           1,
           0,
           2,
           3,
           3,
           2,
           1,
           3,
           3,
           1,
           1,
           1,
           3,
           2,
           0,
           3,
           3,
           0,
           3,
           1,
           3,
           1,
           3,
           1,
           0,
           3,
           3,
           3,
           1,
           0,
           3,
           3,
           0,
           1,
           2,
           1,
           2,
           3,
           3,
           1,
           3,
           1,
           1,
           1,
           1,
           1,
           3,
           3,
           1,
           1,
           3,
           3,
           1,
           2,
           1,
           0,
           3,
           1,
           3,
           3,
           3,
           2,
           3,
           1,
           1,
           3,
           1,
           3,
           2,
           0,
           2,
           1,
           0,
           1,
           1,
           0,
           3,
           1,
           1,
           1,
           0,
           1,
           1,
           1,
           0,
           2,
           3,
           1,
           1,
           1,
           1,
           1,
           3,
           3,
           0,
           2,
           2,
           1,
           3,
           3,
           1,
           1,
           0,
           1,
           3,
           1,
           0,
           1,
           3,
           3,
           0,
           1,
           3,
           3,
           1,
           3,
           1,
           3,
           1,
           1,
           1,
           3,
           3,
           3,
           1,
           3,
           1,
           1,
           3,
           3,
           3,
           1,
           1,
           3,
           3,
           2,
           3,
           1,
           1,
           1,
           1,
           3,
           2,
           1,
           3,
           1,
           1,
           2,
           3,
           3,
           2,
           3,
           2,
           3,
           2,
           2,
           3,
           3,
           3,
           3,
           0,
           3,
           2,
           0,
           1,
           1,
           1,
           0,
           1,
           3,
           3,
           0,
           1,
           2,
           2,
           3,
           3,
           1,
           0,
           3,
           3,
           0,
           3,
           3,
           3,
           3,
           1,
           3,
           0,
           1,
           3,
           3,
           3,
           1,
           3,
           3,
           1,
           3,
           2,
           1,
           1,
           2,
           1,
           1,
           3,
           1
          ],
          "coloraxis": "coloraxis",
          "size": [
           0.5,
           0.5,
           0.5,
           0.5,
           0.5,
           0.5,
           0.5,
           0.5,
           0.5,
           0.5,
           0.5,
           0.5,
           0.5,
           0.5,
           0.5,
           0.5,
           0.5,
           0.5,
           0.5,
           0.5,
           0.5,
           0.5,
           0.5,
           0.5,
           0.5,
           0.5,
           0.5,
           0.5,
           0.5,
           0.5,
           0.5,
           0.5,
           0.5,
           0.5,
           0.5,
           0.5,
           0.5,
           0.5,
           0.5,
           0.5,
           0.5,
           0.5,
           0.5,
           0.5,
           0.5,
           0.5,
           0.5,
           0.5,
           0.5,
           0.5,
           0.5,
           0.5,
           0.5,
           0.5,
           0.5,
           0.5,
           0.5,
           0.5,
           0.5,
           0.5,
           0.5,
           0.5,
           0.5,
           0.5,
           0.5,
           0.5,
           0.5,
           0.5,
           0.5,
           0.5,
           0.5,
           0.5,
           0.5,
           0.5,
           0.5,
           0.5,
           0.5,
           0.5,
           0.5,
           0.5,
           0.5,
           0.5,
           0.5,
           0.5,
           0.5,
           0.5,
           0.5,
           0.5,
           0.5,
           0.5,
           0.5,
           0.5,
           0.5,
           0.5,
           0.5,
           0.5,
           0.5,
           0.5,
           0.5,
           0.5,
           0.5,
           0.5,
           0.5,
           0.5,
           0.5,
           0.5,
           0.5,
           0.5,
           0.5,
           0.5,
           0.5,
           0.5,
           0.5,
           0.5,
           0.5,
           0.5,
           0.5,
           0.5,
           0.5,
           0.5,
           0.5,
           0.5,
           0.5,
           0.5,
           0.5,
           0.5,
           0.5,
           0.5,
           0.5,
           0.5,
           0.5,
           0.5,
           0.5,
           0.5,
           0.5,
           0.5,
           0.5,
           0.5,
           0.5,
           0.5,
           0.5,
           0.5,
           0.5,
           0.5,
           0.5,
           0.5,
           0.5,
           0.5,
           0.5,
           0.5,
           0.5,
           0.5,
           0.5,
           0.5,
           0.5,
           0.5,
           0.5,
           0.5,
           0.5,
           0.5,
           0.5,
           0.5,
           0.5,
           0.5,
           0.5,
           0.5,
           0.5,
           0.5,
           0.5,
           0.5,
           0.5,
           0.5,
           0.5,
           0.5,
           0.5,
           0.5,
           0.5,
           0.5,
           0.5,
           0.5,
           0.5,
           0.5,
           0.5,
           0.5,
           0.5,
           0.5,
           0.5,
           0.5,
           0.5,
           0.5,
           0.5,
           0.5,
           0.5,
           0.5,
           0.5,
           0.5,
           0.5,
           0.5,
           0.5,
           0.5,
           0.5,
           0.5,
           0.5,
           0.5,
           0.5,
           0.5,
           0.5,
           0.5,
           0.5,
           0.5,
           0.5,
           0.5,
           0.5,
           0.5,
           0.5,
           0.5,
           0.5,
           0.5,
           0.5,
           0.5,
           0.5,
           0.5,
           0.5,
           0.5,
           0.5,
           0.5,
           0.5,
           0.5,
           0.5,
           0.5,
           0.5,
           0.5,
           0.5,
           0.5,
           0.5,
           0.5,
           0.5,
           0.5,
           0.5,
           0.5,
           0.5,
           0.5,
           0.5,
           0.5,
           0.5,
           0.5,
           0.5,
           0.5,
           0.5,
           0.5,
           0.5,
           0.5,
           0.5,
           0.5,
           0.5,
           0.5,
           0.5,
           0.5,
           0.5,
           0.5,
           0.5,
           0.5,
           0.5,
           0.5,
           0.5,
           0.5,
           0.5,
           0.5,
           0.5,
           0.5,
           0.5,
           0.5,
           0.5,
           0.5,
           0.5,
           0.5,
           0.5,
           0.5,
           0.5,
           0.5,
           0.5,
           0.5,
           0.5,
           0.5,
           0.5,
           0.5,
           0.5,
           0.5,
           0.5,
           0.5,
           0.5,
           0.5,
           0.5,
           0.5,
           0.5,
           0.5,
           0.5,
           0.5,
           0.5,
           0.5
          ],
          "sizemode": "area",
          "sizeref": 0.00125,
          "symbol": "circle"
         },
         "mode": "markers+text",
         "name": "",
         "scene": "scene",
         "showlegend": false,
         "text": [
          "研討會",
          "負債",
          "於今",
          "面臨",
          "議題",
          "八月",
          "內行人_點出",
          "建築物",
          "核能",
          "全台",
          "支援",
          "富蘭克林_坦伯頓",
          "冠軍",
          "央行",
          "檢核",
          "確保",
          "就業",
          "紀錄",
          "地化",
          "國外",
          "買氣",
          "運維",
          "持有",
          "相關",
          "解方",
          "一表看",
          "交付",
          "意外",
          "表現",
          "健康",
          "台美",
          "公益",
          "將以",
          "還在",
          "門檻",
          "引領",
          "提到",
          "案例",
          "態度",
          "幅度",
          "負擔",
          "連鎖_平價",
          "指引",
          "大增",
          "關聯性",
          "需求",
          "反對",
          "過關",
          "用電",
          "概念",
          "龍潭",
          "齊聚一堂",
          "民間",
          "仲業",
          "初步",
          "見證",
          "邀請",
          "業界",
          "立法院",
          "看法",
          "玉山",
          "下午",
          "帶領",
          "累積",
          "台泥",
          "結構",
          "電力公司",
          "旅客",
          "華視",
          "扣件",
          "高峰",
          "勞動力",
          "供應",
          "電纜",
          "空間",
          "比一比",
          "驅動",
          "第三次",
          "潔淨",
          "涵蓋",
          "鼓勵",
          "經歷",
          "剩下",
          "里程碑",
          "預期",
          "雙雙_嚇跌",
          "租稅",
          "進口",
          "海線",
          "獲配",
          "以利",
          "多元",
          "店租",
          "下滑",
          "建築",
          "啟動",
          "環評",
          "生意",
          "投信",
          "用於",
          "半導體",
          "新鮮空氣",
          "決策",
          "學生",
          "業都",
          "知識",
          "位置",
          "天然氣",
          "先前",
          "中科",
          "額度",
          "退出",
          "中壢_工業區",
          "思考",
          "壓低",
          "器材",
          "上班族",
          "日益嚴重",
          "彭博",
          "股價",
          "新台幣",
          "支付",
          "環境保護",
          "公股",
          "貨櫃",
          "對外",
          "外商",
          "優質",
          "燃氫",
          "申報",
          "浮台",
          "流程",
          "營收破",
          "同仁",
          "華航",
          "探討",
          "處於",
          "五十年",
          "品牌",
          "第一步",
          "導致",
          "估計",
          "進度",
          "台英",
          "議價",
          "降息",
          "解決",
          "裝置",
          "檢測",
          "新聞稿",
          "年度",
          "海運",
          "燈號",
          "即可",
          "民眾",
          "混凝土",
          "縣市",
          "效能",
          "穩健",
          "貨幣",
          "打造",
          "攝影",
          "供電",
          "搶下_好市",
          "招商",
          "中東",
          "理事長",
          "德國",
          "產業鏈",
          "將有_四案場",
          "已於_下旬",
          "程度",
          "辨識",
          "部將",
          "日前",
          "興起",
          "工研院",
          "首批",
          "永豐",
          "允能",
          "將有",
          "世界",
          "液壓",
          "族群",
          "機構",
          "履約",
          "國人",
          "冷氣",
          "風能",
          "海洋能",
          "程序",
          "組織",
          "東森",
          "綜合",
          "董事_學會",
          "找到",
          "自年",
          "展示",
          "八年",
          "學者",
          "練台生",
          "協助",
          "高鐵",
          "近日",
          "數據",
          "解決方案",
          "危老案",
          "回升",
          "電子",
          "家電",
          "自主",
          "大戶",
          "台鹽",
          "減排",
          "減碳",
          "收購",
          "走勢",
          "表達",
          "攸關",
          "今年以來",
          "目標",
          "買得起",
          "千億",
          "中華",
          "最低工資",
          "製程",
          "深耕",
          "台大",
          "簽單",
          "備轉",
          "繳稅_等於",
          "世紀",
          "作法",
          "強化",
          "動力",
          "發行",
          "彰芳_西島",
          "接軌",
          "價格",
          "正向",
          "鎖定",
          "萬噸",
          "這一",
          "台積_電棄",
          "綠電",
          "轉向",
          "截標",
          "造價",
          "比例",
          "提高",
          "接近",
          "合計",
          "下降",
          "安排",
          "國泰",
          "一年",
          "變電站",
          "參與",
          "高科技",
          "授信",
          "澳洲",
          "銀行",
          "更是",
          "業績",
          "下半年",
          "簡稱",
          "承銷",
          "風力",
          "億度",
          "花蓮",
          "去年",
          "副總",
          "交易所",
          "年減",
          "別墅",
          "世華",
          "一半",
          "牽動",
          "市府",
          "推升",
          "聯網",
          "建廠",
          "證券",
          "之下",
          "淡水",
          "給付",
          "專家",
          "參考",
          "巨蛋",
          "收入",
          "產品",
          "答案",
          "設施",
          "通訊",
          "社會",
          "成本",
          "生成式",
          "制定",
          "尚未",
          "股票"
         ],
         "type": "scatter3d",
         "x": [
          0.2961816191673279,
          -0.2939201593399048,
          -0.984087347984314,
          1.1402677297592163,
          1.088365912437439,
          -1.10982346534729,
          0.4610264301300049,
          -0.21881495416164398,
          0.206364244222641,
          -0.7498626112937927,
          0.279585599899292,
          0.4101629853248596,
          -0.18216100335121155,
          -1.5142192840576172,
          -0.14768977463245392,
          0.9458976984024048,
          0.022673290222883224,
          -0.35182732343673706,
          0.8388872742652893,
          0.12818071246147156,
          -0.6752528548240662,
          0.5470337271690369,
          -0.4311269223690033,
          0.7026242613792419,
          0.41466331481933594,
          -0.6350696682929993,
          -0.2424127459526062,
          -0.1220904216170311,
          0.16373631358146667,
          0.7692529559135437,
          0.533001720905304,
          -0.0035690912045538425,
          0.4010922610759735,
          -0.19599786400794983,
          0.0677340179681778,
          1.055658221244812,
          -0.2642410397529602,
          0.16627666354179382,
          -0.4514087438583374,
          -0.4491756558418274,
          -0.5776849985122681,
          -1.376513957977295,
          0.09557896852493286,
          -0.3249497413635254,
          0.7214677333831787,
          0.3968105614185333,
          -0.9103381633758545,
          -0.22557979822158813,
          0.3009745180606842,
          0.37323611974716187,
          -1.1053653955459595,
          -0.5632660388946533,
          0.9031122922897339,
          -0.2796114981174469,
          -0.2046283781528473,
          0.14434334635734558,
          0.09791138023138046,
          0.2494124174118042,
          -1.396586537361145,
          -0.3892703652381897,
          -0.24813833832740784,
          -0.19273969531059265,
          0.31604620814323425,
          -0.041093457490205765,
          0.7302645444869995,
          0.5629590153694153,
          0.24207262694835663,
          -0.023206239566206932,
          -0.6174330711364746,
          0.2995353639125824,
          0.9121362566947937,
          0.5642775297164917,
          1.0939973592758179,
          0.2979651689529419,
          -0.03184029087424278,
          -0.8018903136253357,
          0.9617550373077393,
          -0.38922253251075745,
          1.0463370084762573,
          0.5091663599014282,
          0.759637713432312,
          -0.04787377268075943,
          -0.5004376173019409,
          1.2119557857513428,
          -0.6814076900482178,
          -0.4898679852485657,
          0.1380573958158493,
          0.03492126986384392,
          -0.09037648141384125,
          -0.5522953867912292,
          -0.014866114594042301,
          0.9782683849334717,
          -1.170749306678772,
          -0.8668332695960999,
          0.3365529179573059,
          -0.15843771398067474,
          -0.6561385989189148,
          -1.1023699045181274,
          -0.2988758385181427,
          0.3890416622161865,
          1.299278736114502,
          -0.7408433556556702,
          -0.31892865896224976,
          0.21513371169567108,
          0.2727498412132263,
          0.4379854202270508,
          -0.009229753166437149,
          0.38129571080207825,
          -0.7076165080070496,
          -0.26728305220603943,
          -0.40392541885375977,
          -0.019006647169589996,
          -1.096434235572815,
          0.30929023027420044,
          -0.3250502049922943,
          0.22849105298519135,
          -0.4398154020309448,
          0.40443387627601624,
          -0.1905413269996643,
          -0.2979845702648163,
          -1.33249831199646,
          -0.10575471818447113,
          0.35608088970184326,
          -0.2840881049633026,
          -0.23331211507320404,
          -0.21592935919761658,
          -0.3351806402206421,
          0.38799580931663513,
          0.17291538417339325,
          0.04015083983540535,
          0.07001117616891861,
          -0.08115904033184052,
          -0.8438895344734192,
          0.12859253585338593,
          -0.43046900629997253,
          0.9350455403327942,
          0.25512033700942993,
          0.8393555283546448,
          0.2069847583770752,
          0.6376147270202637,
          -0.10404296219348907,
          -0.2922818958759308,
          0.6836735010147095,
          0.5256232023239136,
          -0.32741299271583557,
          -0.3548262417316437,
          0.7216235995292664,
          0.015086066909134388,
          0.32607752084732056,
          -0.24815978109836578,
          -0.27232998609542847,
          0.09808827936649323,
          -0.2933042347431183,
          -0.39990147948265076,
          -0.39004048705101013,
          0.08267135918140411,
          -1.0269980430603027,
          0.2412252128124237,
          0.9050046801567078,
          -0.10234368592500687,
          0.5788813233375549,
          -0.29392847418785095,
          1.074194073677063,
          -0.44232580065727234,
          -0.3427090048789978,
          0.13730093836784363,
          -0.3054223358631134,
          0.11487429589033127,
          0.972069263458252,
          -0.38639068603515625,
          -0.298643559217453,
          0.19781452417373657,
          0.13676652312278748,
          0.05353206768631935,
          -0.49640968441963196,
          0.2148573100566864,
          1.0649549961090088,
          0.1830567568540573,
          -0.29035189747810364,
          -0.38436591625213623,
          -0.012018198147416115,
          0.7383900880813599,
          0.48382022976875305,
          0.022945182397961617,
          0.3939722776412964,
          0.10724987089633942,
          -0.7853550314903259,
          -0.6015409827232361,
          0.13830743730068207,
          0.519249439239502,
          -0.16855022311210632,
          0.8294558525085449,
          -0.5133909583091736,
          -0.24816367030143738,
          0.34988880157470703,
          0.18194693326950073,
          0.10585174709558487,
          0.14879480004310608,
          -0.5851292610168457,
          0.029481789097189903,
          -0.35909363627433777,
          1.5557752847671509,
          -0.19820883870124817,
          -0.44160863757133484,
          -0.14897233247756958,
          1.0071982145309448,
          -0.4430401921272278,
          -0.5720650553703308,
          0.3708624243736267,
          -0.08858469873666763,
          0.709869921207428,
          -0.0526413731276989,
          0.11006242781877518,
          0.3016984462738037,
          1.6928150653839111,
          -0.24486495554447174,
          -0.3954550623893738,
          -0.22281168401241302,
          0.5490822792053223,
          -0.3009887933731079,
          1.328566312789917,
          0.11234398931264877,
          -0.6185781359672546,
          -0.12094035744667053,
          -0.7984434962272644,
          0.8646714091300964,
          1.06955885887146,
          -0.026203809306025505,
          -1.5896905660629272,
          -0.5544883012771606,
          -0.17613646388053894,
          0.20518207550048828,
          0.2728143036365509,
          1.7269318103790283,
          0.19345751404762268,
          -0.38162410259246826,
          -0.09384670853614807,
          1.3287769556045532,
          -0.703303337097168,
          0.3318999707698822,
          0.23346096277236938,
          -0.0679422989487648,
          -0.2795214056968689,
          -0.7149712443351746,
          0.7722287178039551,
          0.02123953215777874,
          -0.645572304725647,
          -0.9421066045761108,
          -0.40196675062179565,
          0.34637123346328735,
          -0.290788471698761,
          -0.6879503130912781,
          -0.24521367251873016,
          -0.14818082749843597,
          -0.8565989136695862,
          -0.7129886150360107,
          -0.26153817772865295,
          0.2852118909358978,
          0.7534604072570801,
          0.11502297967672348,
          0.37507352232933044,
          -0.731432318687439,
          0.589148998260498,
          -0.025141870602965355,
          -0.6363903880119324,
          -0.033884819597005844,
          0.13883881270885468,
          0.4892285466194153,
          -0.21516333520412445,
          -0.3548646569252014,
          -0.8328267931938171,
          0.15105049312114716,
          0.31007248163223267,
          -0.6004248261451721,
          -0.286805659532547,
          -0.5168845653533936,
          -0.4205600321292877,
          0.0005848196451552212,
          -0.5302792191505432,
          -0.12734921276569366,
          0.39849019050598145,
          -0.11095596104860306,
          -0.12967664003372192,
          0.10770794004201889,
          -0.5235607028007507,
          -0.22123506665229797,
          -1.3648420572280884,
          0.09485220909118652,
          -0.43581464886665344,
          -0.581965982913971,
          0.5808082222938538,
          -0.208091601729393,
          -0.31582000851631165,
          1.2018877267837524,
          1.1343045234680176,
          -0.083730548620224,
          0.4540046155452728,
          0.566860556602478,
          -0.25661501288414,
          0.21598416566848755
         ],
         "y": [
          -0.2721908986568451,
          0.1631929874420166,
          0.2599431574344635,
          0.01916251704096794,
          -0.8553897738456726,
          -0.030115948989987373,
          -0.25586676597595215,
          0.7171853184700012,
          0.4192545413970947,
          0.6139532923698425,
          0.2988220453262329,
          -0.7104327082633972,
          -0.7161035537719727,
          -1.0266634225845337,
          0.240634486079216,
          0.9074820876121521,
          -0.6949861645698547,
          0.06386613845825195,
          0.522463858127594,
          -0.13457079231739044,
          -0.15504683554172516,
          0.9817655086517334,
          0.16738325357437134,
          0.2908773422241211,
          -0.04494214057922363,
          -0.10335499048233032,
          0.6465020775794983,
          -0.1810837686061859,
          -0.6642153263092041,
          -0.34175655245780945,
          -0.11439122259616852,
          -0.35187095403671265,
          0.019514253363013268,
          0.003259812481701374,
          1.141283392906189,
          -0.5063800811767578,
          -0.34023189544677734,
          -0.002648582449182868,
          -0.3980940282344818,
          0.01741173304617405,
          0.20738573372364044,
          0.5147260427474976,
          -0.15796397626399994,
          -0.015966789796948433,
          0.5995320677757263,
          0.27868542075157166,
          -0.20053289830684662,
          0.00669775390997529,
          0.8065954446792603,
          -0.10866080224514008,
          0.1759747862815857,
          -0.43609049916267395,
          0.19578932225704193,
          -0.6888747215270996,
          0.007278602570295334,
          -0.19050873816013336,
          -0.8991026878356934,
          -0.16605858504772186,
          -0.09153159707784653,
          -0.35050511360168457,
          -0.6339153051376343,
          -0.06252633035182953,
          -0.4363197386264801,
          1.3149728775024414,
          0.23934084177017212,
          0.5317022800445557,
          -0.18766102194786072,
          -0.3236417770385742,
          0.1975809782743454,
          0.07016412913799286,
          -0.46346744894981384,
          -0.14234662055969238,
          0.8919346928596497,
          0.6155692338943481,
          0.562325656414032,
          -0.24726948142051697,
          -0.5897998213768005,
          1.3212236166000366,
          -0.01268740650266409,
          0.03961586952209473,
          0.29022130370140076,
          -0.14188717305660248,
          0.09842445701360703,
          0.4843902587890625,
          -0.21439111232757568,
          -0.08583590388298035,
          -0.16580407321453094,
          -0.08084140717983246,
          0.02171516790986061,
          1.3606113195419312,
          0.20891496539115906,
          0.1900177150964737,
          -0.06065690517425537,
          -0.6420170664787292,
          -0.07108906656503677,
          0.2647196054458618,
          1.556054949760437,
          0.5090789198875427,
          -0.3816284239292145,
          0.6157954335212708,
          -0.49077948927879333,
          0.14683517813682556,
          -0.34797540307044983,
          -0.21159030497074127,
          -0.603728175163269,
          -0.07680732756853104,
          0.18872542679309845,
          0.9592351913452148,
          -0.08563529700040817,
          -0.20317503809928894,
          0.2250128984451294,
          0.09854428470134735,
          0.11088213324546814,
          -0.03513694554567337,
          0.42516693472862244,
          -0.1922541707754135,
          -1.0495065450668335,
          -0.4730779230594635,
          -1.0978957414627075,
          -0.11322283744812012,
          0.1872539073228836,
          -0.24984773993492126,
          -0.22706182301044464,
          -0.7349329590797424,
          0.42807772755622864,
          0.00010164328705286607,
          -0.3421113193035126,
          0.0919632762670517,
          0.5216547846794128,
          -0.09414311498403549,
          0.7218223810195923,
          0.24269156157970428,
          0.23632732033729553,
          -0.1863560974597931,
          -0.35187584161758423,
          -0.5771842002868652,
          -0.2187650501728058,
          -0.27510789036750793,
          -0.5785583257675171,
          -0.21511928737163544,
          0.13373376429080963,
          0.04873797297477722,
          0.46066826581954956,
          -0.07203857600688934,
          0.19771720468997955,
          -0.42120808362960815,
          -0.10582908242940903,
          2.4975717067718506,
          0.15473970770835876,
          -0.5018981695175171,
          0.25088027119636536,
          -0.32413366436958313,
          -0.26356250047683716,
          0.4273141622543335,
          0.09129591286182404,
          0.6019436717033386,
          -0.47544893622398376,
          0.3675561547279358,
          -0.0752592533826828,
          -0.6852980852127075,
          0.2247343361377716,
          -0.14252503216266632,
          1.036681056022644,
          -0.48471611738204956,
          0.6013395190238953,
          -0.15839877724647522,
          -0.6544816493988037,
          -0.3043804466724396,
          0.29186731576919556,
          0.2697620093822479,
          0.5719670653343201,
          0.32126152515411377,
          0.2173188328742981,
          -0.21234263479709625,
          -0.7365812659263611,
          -0.4378598928451538,
          -0.5241453051567078,
          -0.38279035687446594,
          -0.7726612091064453,
          0.738898754119873,
          0.21677742898464203,
          -0.983534574508667,
          0.41456204652786255,
          -0.4020887613296509,
          -1.1037049293518066,
          0.01962326280772686,
          -0.5246978402137756,
          0.03578325733542442,
          0.4295029640197754,
          0.630078136920929,
          0.8951368927955627,
          -0.33852675557136536,
          -0.1846003532409668,
          -0.2934268116950989,
          -0.5573965907096863,
          -0.010861949995160103,
          -0.1357516348361969,
          -0.04535039886832237,
          -0.28118428587913513,
          -0.1696654111146927,
          0.008420025929808617,
          -0.14457179605960846,
          -0.36501169204711914,
          -0.31619584560394287,
          -0.8884419798851013,
          -0.08381130546331406,
          -0.42971089482307434,
          -0.12171436101198196,
          -0.259246289730072,
          -0.015314839780330658,
          0.23013828694820404,
          0.03933916985988617,
          -0.15109455585479736,
          0.10565826296806335,
          0.10143406689167023,
          0.4863647520542145,
          -0.33602869510650635,
          -0.359296590089798,
          -0.2617250978946686,
          -0.2983701527118683,
          0.565477728843689,
          0.09312766790390015,
          0.2655268609523773,
          -0.05682414397597313,
          -0.10359599441289902,
          0.11663045734167099,
          -0.6284397840499878,
          0.012607716955244541,
          0.3551737368106842,
          1.240006685256958,
          -0.9536939859390259,
          0.2369231879711151,
          0.1272248774766922,
          0.10908450186252594,
          -0.32965460419654846,
          -0.5889679789543152,
          0.8372809886932373,
          -0.9904057383537292,
          0.538964569568634,
          -0.3040364682674408,
          0.07967417687177658,
          0.6342834234237671,
          0.07813730090856552,
          -0.5023433566093445,
          0.8518603444099426,
          -0.1949440836906433,
          0.9596969485282898,
          0.23285675048828125,
          1.2111576795578003,
          1.325448989868164,
          0.05109068751335144,
          0.7106752395629883,
          0.26257580518722534,
          0.20188525319099426,
          -1.3164664506912231,
          0.4531785249710083,
          1.62922203540802,
          0.2984822392463684,
          -0.31530889868736267,
          -0.05410975217819214,
          -0.4368589222431183,
          -1.4735910892486572,
          -0.2290497124195099,
          -0.13164284825325012,
          -0.1265372782945633,
          -0.28566524386405945,
          -0.43476277589797974,
          2.1367831230163574,
          1.5095593929290771,
          0.06320895254611969,
          -0.31610479950904846,
          -0.24743212759494781,
          -1.3393255472183228,
          0.016909174621105194,
          -0.10810922831296921,
          -1.1835861206054688,
          0.3160052001476288,
          -0.2558588683605194,
          0.2898392379283905,
          -0.013821970671415329,
          -0.14376607537269592,
          0.22824013233184814,
          -1.0518735647201538,
          -0.22630353271961212,
          0.03328065574169159,
          -0.1684102714061737,
          -1.1117994785308838,
          -0.13709712028503418,
          -0.04869479313492775,
          0.3924802541732788,
          -0.3447229862213135,
          -0.028257103636860847,
          1.3456400632858276,
          -0.13212016224861145,
          -0.9840441942214966,
          1.0265716314315796,
          -0.2879750430583954,
          0.15795554220676422,
          0.049202267080545425,
          -0.8531668186187744
         ],
         "z": [
          -0.057453472167253494,
          -0.40444955229759216,
          1.1548120975494385,
          -0.5911157131195068,
          -0.11430450528860092,
          -0.36309152841567993,
          0.08658608794212341,
          -0.04432244226336479,
          0.09008694440126419,
          -0.2980829179286957,
          0.09385234117507935,
          0.014555267058312893,
          0.34940412640571594,
          -0.11143053323030472,
          0.11954265832901001,
          -0.05613534152507782,
          -0.23419331014156342,
          -0.2596814036369324,
          0.20517505705356598,
          -0.12919048964977264,
          -0.4787452816963196,
          0.5682605504989624,
          0.3045622706413269,
          0.19990260899066925,
          -0.08588958531618118,
          -0.07520880550146103,
          1.5278812646865845,
          -0.0554748997092247,
          -1.0645867586135864,
          -0.5243473052978516,
          -0.043369829654693604,
          -0.09801127016544342,
          0.007724427152425051,
          0.011827105656266212,
          -0.1718415915966034,
          -0.15118379890918732,
          0.9565036296844482,
          0.11366963386535645,
          -0.08351244032382965,
          -1.1319483518600464,
          -0.8848588466644287,
          -1.2809187173843384,
          -0.08010008931159973,
          -0.36479651927948,
          0.11293205618858337,
          -1.0446221828460693,
          0.014896254986524582,
          0.06729903817176819,
          -1.0217570066452026,
          -0.23908457159996033,
          0.1399131715297699,
          -0.2734440863132477,
          -0.7252241373062134,
          -0.11122358590364456,
          0.40192165970802307,
          0.17455270886421204,
          0.5916452407836914,
          -0.10913711786270142,
          1.688713788986206,
          -0.1361514925956726,
          0.5366194248199463,
          0.5327704548835754,
          0.30342409014701843,
          -0.10546038299798965,
          1.2369837760925293,
          -0.06824104487895966,
          0.32516202330589294,
          -0.38470157980918884,
          0.501097559928894,
          -0.04462294653058052,
          0.10940511524677277,
          -0.510351300239563,
          -0.4905763864517212,
          0.7225989103317261,
          -0.14899258315563202,
          -0.321911096572876,
          -0.22924424707889557,
          0.8261336088180542,
          0.4017380177974701,
          -0.05237846449017525,
          -0.04857899993658066,
          -0.11635342240333557,
          -0.40050891041755676,
          0.6330650448799133,
          -0.9552425146102905,
          0.8795862197875977,
          -0.33363595604896545,
          -0.0031659009400755167,
          -0.27097266912460327,
          0.29188406467437744,
          0.09853106737136841,
          -0.45072439312934875,
          0.18519659340381622,
          -0.5854297876358032,
          -0.16153663396835327,
          0.9328562617301941,
          1.664124608039856,
          -0.8204317688941956,
          0.10719238221645355,
          0.021274494007229805,
          -0.14594461023807526,
          -0.473674476146698,
          -0.17070508003234863,
          -0.15986879169940948,
          -0.03436698392033577,
          -0.025564972311258316,
          -0.03697606921195984,
          0.09626181423664093,
          0.7803913950920105,
          -0.11888305842876434,
          -0.3588124215602875,
          0.7258954644203186,
          0.004824896343052387,
          0.0018591276602819562,
          -0.0470057912170887,
          -0.13830804824829102,
          -0.4777892231941223,
          -0.2062106877565384,
          0.539013147354126,
          -0.10015290975570679,
          -1.1798996925354004,
          0.11061375588178635,
          0.10573887825012207,
          0.39760667085647583,
          0.34566596150398254,
          0.06788761168718338,
          0.7900061011314392,
          -0.2321920245885849,
          0.11924359947443008,
          0.1330084353685379,
          0.10046233236789703,
          0.07540024816989899,
          -0.7788257598876953,
          0.15325704216957092,
          -0.041768599301576614,
          -0.19135510921478271,
          -0.23600070178508759,
          0.13497669994831085,
          -0.30566659569740295,
          -0.4280412495136261,
          -0.41517743468284607,
          -0.17565496265888214,
          -0.014746767468750477,
          0.045940130949020386,
          0.010015018284320831,
          -0.4832283854484558,
          -0.46703222393989563,
          -0.27054563164711,
          -0.23586487770080566,
          0.9704954028129578,
          -0.025782575830817223,
          -0.15035901963710785,
          -0.20399898290634155,
          0.29540687799453735,
          -0.48651957511901855,
          0.8063507080078125,
          -0.7902126312255859,
          -0.09660980850458145,
          -0.4289705157279968,
          -0.2575172483921051,
          0.03613666817545891,
          0.0241578109562397,
          -0.3395228981971741,
          0.7089734673500061,
          0.39717531204223633,
          -0.3446323275566101,
          1.4546157121658325,
          0.3199569880962372,
          -0.16537600755691528,
          0.7810901403427124,
          0.1525699496269226,
          -0.06448185443878174,
          0.050967779010534286,
          -0.04768825322389603,
          0.9468040466308594,
          -0.03887895494699478,
          0.8423139452934265,
          -0.014009597711265087,
          0.4641227722167969,
          0.6604005098342896,
          -0.11740340292453766,
          0.1858835518360138,
          0.06273265182971954,
          -0.050920188426971436,
          0.0024241656064987183,
          -0.0018416446400806308,
          -0.1932351142168045,
          -0.028951073065400124,
          1.7962369918823242,
          0.23605069518089294,
          0.6192687153816223,
          0.22603599727153778,
          0.0429333820939064,
          0.09218872338533401,
          0.31002336740493774,
          -0.09721412509679794,
          0.5630000829696655,
          0.12065330892801285,
          0.11224092543125153,
          0.01804838702082634,
          0.716325581073761,
          0.44795405864715576,
          0.08968428522348404,
          0.22330518066883087,
          0.28437963128089905,
          -0.33330780267715454,
          -0.2422271966934204,
          -0.7589312791824341,
          0.10913287848234177,
          -0.10090778768062592,
          0.2823493182659149,
          -0.5595606565475464,
          0.4039307236671448,
          -0.1615670621395111,
          -0.7111366987228394,
          -0.0806540846824646,
          -0.45721977949142456,
          0.3254145681858063,
          0.3645699620246887,
          -0.18992044031620026,
          -0.025182543322443962,
          0.3886740505695343,
          -0.42404496669769287,
          0.09278120845556259,
          0.2166239321231842,
          -0.3531617522239685,
          0.15168848633766174,
          0.28742361068725586,
          -1.3024327754974365,
          -0.35492682456970215,
          0.17756253480911255,
          0.6115233898162842,
          -0.21622812747955322,
          -0.09248083084821701,
          -0.33875685930252075,
          -0.37898263335227966,
          0.7236616015434265,
          -0.5815357565879822,
          -0.7610164284706116,
          -0.18154218792915344,
          -0.0814211443066597,
          -0.7064282894134521,
          -0.09428032487630844,
          -0.11723353713750839,
          -0.6215940117835999,
          -0.24585233628749847,
          0.6257674098014832,
          0.4138248860836029,
          -0.34090572595596313,
          -0.7133476138114929,
          -0.326445996761322,
          -0.23642300069332123,
          -0.6176184415817261,
          0.09066945314407349,
          0.1384042203426361,
          -0.7360191941261292,
          0.568627655506134,
          0.9528803825378418,
          -0.10259570181369781,
          0.0809333547949791,
          0.3503912091255188,
          1.1352876424789429,
          0.077733613550663,
          -0.5359014868736267,
          -0.40537378191947937,
          0.30540770292282104,
          0.07556235790252686,
          1.0505554676055908,
          -0.4143677055835724,
          0.09882450103759766,
          -0.20441585779190063,
          0.29444441199302673,
          0.903622031211853,
          0.20083200931549072,
          0.033752936869859695,
          0.3879230320453644,
          -0.18600188195705414,
          -0.08108499646186829,
          0.04794197529554367,
          -0.17308661341667175,
          -0.12199971079826355,
          -0.1414540410041809,
          0.43695518374443054,
          -0.3859724998474121,
          -0.3653974235057831,
          -0.08377589285373688,
          -0.36139270663261414,
          -0.009661621414124966,
          0.08327483385801315,
          -0.7501749992370605,
          -0.34179410338401794,
          0.05095337703824043,
          -0.01688484475016594,
          -0.1558109074831009,
          -0.7344358563423157,
          -0.9381383061408997,
          -0.3248196244239807,
          0.04374879226088524,
          0.22310034930706024,
          -0.337422251701355
         ]
        }
       ],
       "layout": {
        "coloraxis": {
         "colorbar": {
          "title": {
           "text": "color"
          }
         },
         "colorscale": [
          [
           0,
           "#0d0887"
          ],
          [
           0.1111111111111111,
           "#46039f"
          ],
          [
           0.2222222222222222,
           "#7201a8"
          ],
          [
           0.3333333333333333,
           "#9c179e"
          ],
          [
           0.4444444444444444,
           "#bd3786"
          ],
          [
           0.5555555555555556,
           "#d8576b"
          ],
          [
           0.6666666666666666,
           "#ed7953"
          ],
          [
           0.7777777777777778,
           "#fb9f3a"
          ],
          [
           0.8888888888888888,
           "#fdca26"
          ],
          [
           1,
           "#f0f921"
          ]
         ]
        },
        "height": 800,
        "legend": {
         "itemsizing": "constant",
         "tracegroupgap": 0
        },
        "margin": {
         "t": 60
        },
        "scene": {
         "domain": {
          "x": [
           0,
           1
          ],
          "y": [
           0,
           1
          ]
         },
         "xaxis": {
          "title": {
           "text": "dim1"
          }
         },
         "yaxis": {
          "title": {
           "text": "dim2"
          }
         },
         "zaxis": {
          "title": {
           "text": "dim3"
          }
         }
        },
        "template": {
         "data": {
          "bar": [
           {
            "error_x": {
             "color": "#2a3f5f"
            },
            "error_y": {
             "color": "#2a3f5f"
            },
            "marker": {
             "line": {
              "color": "#E5ECF6",
              "width": 0.5
             },
             "pattern": {
              "fillmode": "overlay",
              "size": 10,
              "solidity": 0.2
             }
            },
            "type": "bar"
           }
          ],
          "barpolar": [
           {
            "marker": {
             "line": {
              "color": "#E5ECF6",
              "width": 0.5
             },
             "pattern": {
              "fillmode": "overlay",
              "size": 10,
              "solidity": 0.2
             }
            },
            "type": "barpolar"
           }
          ],
          "carpet": [
           {
            "aaxis": {
             "endlinecolor": "#2a3f5f",
             "gridcolor": "white",
             "linecolor": "white",
             "minorgridcolor": "white",
             "startlinecolor": "#2a3f5f"
            },
            "baxis": {
             "endlinecolor": "#2a3f5f",
             "gridcolor": "white",
             "linecolor": "white",
             "minorgridcolor": "white",
             "startlinecolor": "#2a3f5f"
            },
            "type": "carpet"
           }
          ],
          "choropleth": [
           {
            "colorbar": {
             "outlinewidth": 0,
             "ticks": ""
            },
            "type": "choropleth"
           }
          ],
          "contour": [
           {
            "colorbar": {
             "outlinewidth": 0,
             "ticks": ""
            },
            "colorscale": [
             [
              0,
              "#0d0887"
             ],
             [
              0.1111111111111111,
              "#46039f"
             ],
             [
              0.2222222222222222,
              "#7201a8"
             ],
             [
              0.3333333333333333,
              "#9c179e"
             ],
             [
              0.4444444444444444,
              "#bd3786"
             ],
             [
              0.5555555555555556,
              "#d8576b"
             ],
             [
              0.6666666666666666,
              "#ed7953"
             ],
             [
              0.7777777777777778,
              "#fb9f3a"
             ],
             [
              0.8888888888888888,
              "#fdca26"
             ],
             [
              1,
              "#f0f921"
             ]
            ],
            "type": "contour"
           }
          ],
          "contourcarpet": [
           {
            "colorbar": {
             "outlinewidth": 0,
             "ticks": ""
            },
            "type": "contourcarpet"
           }
          ],
          "heatmap": [
           {
            "colorbar": {
             "outlinewidth": 0,
             "ticks": ""
            },
            "colorscale": [
             [
              0,
              "#0d0887"
             ],
             [
              0.1111111111111111,
              "#46039f"
             ],
             [
              0.2222222222222222,
              "#7201a8"
             ],
             [
              0.3333333333333333,
              "#9c179e"
             ],
             [
              0.4444444444444444,
              "#bd3786"
             ],
             [
              0.5555555555555556,
              "#d8576b"
             ],
             [
              0.6666666666666666,
              "#ed7953"
             ],
             [
              0.7777777777777778,
              "#fb9f3a"
             ],
             [
              0.8888888888888888,
              "#fdca26"
             ],
             [
              1,
              "#f0f921"
             ]
            ],
            "type": "heatmap"
           }
          ],
          "heatmapgl": [
           {
            "colorbar": {
             "outlinewidth": 0,
             "ticks": ""
            },
            "colorscale": [
             [
              0,
              "#0d0887"
             ],
             [
              0.1111111111111111,
              "#46039f"
             ],
             [
              0.2222222222222222,
              "#7201a8"
             ],
             [
              0.3333333333333333,
              "#9c179e"
             ],
             [
              0.4444444444444444,
              "#bd3786"
             ],
             [
              0.5555555555555556,
              "#d8576b"
             ],
             [
              0.6666666666666666,
              "#ed7953"
             ],
             [
              0.7777777777777778,
              "#fb9f3a"
             ],
             [
              0.8888888888888888,
              "#fdca26"
             ],
             [
              1,
              "#f0f921"
             ]
            ],
            "type": "heatmapgl"
           }
          ],
          "histogram": [
           {
            "marker": {
             "pattern": {
              "fillmode": "overlay",
              "size": 10,
              "solidity": 0.2
             }
            },
            "type": "histogram"
           }
          ],
          "histogram2d": [
           {
            "colorbar": {
             "outlinewidth": 0,
             "ticks": ""
            },
            "colorscale": [
             [
              0,
              "#0d0887"
             ],
             [
              0.1111111111111111,
              "#46039f"
             ],
             [
              0.2222222222222222,
              "#7201a8"
             ],
             [
              0.3333333333333333,
              "#9c179e"
             ],
             [
              0.4444444444444444,
              "#bd3786"
             ],
             [
              0.5555555555555556,
              "#d8576b"
             ],
             [
              0.6666666666666666,
              "#ed7953"
             ],
             [
              0.7777777777777778,
              "#fb9f3a"
             ],
             [
              0.8888888888888888,
              "#fdca26"
             ],
             [
              1,
              "#f0f921"
             ]
            ],
            "type": "histogram2d"
           }
          ],
          "histogram2dcontour": [
           {
            "colorbar": {
             "outlinewidth": 0,
             "ticks": ""
            },
            "colorscale": [
             [
              0,
              "#0d0887"
             ],
             [
              0.1111111111111111,
              "#46039f"
             ],
             [
              0.2222222222222222,
              "#7201a8"
             ],
             [
              0.3333333333333333,
              "#9c179e"
             ],
             [
              0.4444444444444444,
              "#bd3786"
             ],
             [
              0.5555555555555556,
              "#d8576b"
             ],
             [
              0.6666666666666666,
              "#ed7953"
             ],
             [
              0.7777777777777778,
              "#fb9f3a"
             ],
             [
              0.8888888888888888,
              "#fdca26"
             ],
             [
              1,
              "#f0f921"
             ]
            ],
            "type": "histogram2dcontour"
           }
          ],
          "mesh3d": [
           {
            "colorbar": {
             "outlinewidth": 0,
             "ticks": ""
            },
            "type": "mesh3d"
           }
          ],
          "parcoords": [
           {
            "line": {
             "colorbar": {
              "outlinewidth": 0,
              "ticks": ""
             }
            },
            "type": "parcoords"
           }
          ],
          "pie": [
           {
            "automargin": true,
            "type": "pie"
           }
          ],
          "scatter": [
           {
            "fillpattern": {
             "fillmode": "overlay",
             "size": 10,
             "solidity": 0.2
            },
            "type": "scatter"
           }
          ],
          "scatter3d": [
           {
            "line": {
             "colorbar": {
              "outlinewidth": 0,
              "ticks": ""
             }
            },
            "marker": {
             "colorbar": {
              "outlinewidth": 0,
              "ticks": ""
             }
            },
            "type": "scatter3d"
           }
          ],
          "scattercarpet": [
           {
            "marker": {
             "colorbar": {
              "outlinewidth": 0,
              "ticks": ""
             }
            },
            "type": "scattercarpet"
           }
          ],
          "scattergeo": [
           {
            "marker": {
             "colorbar": {
              "outlinewidth": 0,
              "ticks": ""
             }
            },
            "type": "scattergeo"
           }
          ],
          "scattergl": [
           {
            "marker": {
             "colorbar": {
              "outlinewidth": 0,
              "ticks": ""
             }
            },
            "type": "scattergl"
           }
          ],
          "scattermapbox": [
           {
            "marker": {
             "colorbar": {
              "outlinewidth": 0,
              "ticks": ""
             }
            },
            "type": "scattermapbox"
           }
          ],
          "scatterpolar": [
           {
            "marker": {
             "colorbar": {
              "outlinewidth": 0,
              "ticks": ""
             }
            },
            "type": "scatterpolar"
           }
          ],
          "scatterpolargl": [
           {
            "marker": {
             "colorbar": {
              "outlinewidth": 0,
              "ticks": ""
             }
            },
            "type": "scatterpolargl"
           }
          ],
          "scatterternary": [
           {
            "marker": {
             "colorbar": {
              "outlinewidth": 0,
              "ticks": ""
             }
            },
            "type": "scatterternary"
           }
          ],
          "surface": [
           {
            "colorbar": {
             "outlinewidth": 0,
             "ticks": ""
            },
            "colorscale": [
             [
              0,
              "#0d0887"
             ],
             [
              0.1111111111111111,
              "#46039f"
             ],
             [
              0.2222222222222222,
              "#7201a8"
             ],
             [
              0.3333333333333333,
              "#9c179e"
             ],
             [
              0.4444444444444444,
              "#bd3786"
             ],
             [
              0.5555555555555556,
              "#d8576b"
             ],
             [
              0.6666666666666666,
              "#ed7953"
             ],
             [
              0.7777777777777778,
              "#fb9f3a"
             ],
             [
              0.8888888888888888,
              "#fdca26"
             ],
             [
              1,
              "#f0f921"
             ]
            ],
            "type": "surface"
           }
          ],
          "table": [
           {
            "cells": {
             "fill": {
              "color": "#EBF0F8"
             },
             "line": {
              "color": "white"
             }
            },
            "header": {
             "fill": {
              "color": "#C8D4E3"
             },
             "line": {
              "color": "white"
             }
            },
            "type": "table"
           }
          ]
         },
         "layout": {
          "annotationdefaults": {
           "arrowcolor": "#2a3f5f",
           "arrowhead": 0,
           "arrowwidth": 1
          },
          "autotypenumbers": "strict",
          "coloraxis": {
           "colorbar": {
            "outlinewidth": 0,
            "ticks": ""
           }
          },
          "colorscale": {
           "diverging": [
            [
             0,
             "#8e0152"
            ],
            [
             0.1,
             "#c51b7d"
            ],
            [
             0.2,
             "#de77ae"
            ],
            [
             0.3,
             "#f1b6da"
            ],
            [
             0.4,
             "#fde0ef"
            ],
            [
             0.5,
             "#f7f7f7"
            ],
            [
             0.6,
             "#e6f5d0"
            ],
            [
             0.7,
             "#b8e186"
            ],
            [
             0.8,
             "#7fbc41"
            ],
            [
             0.9,
             "#4d9221"
            ],
            [
             1,
             "#276419"
            ]
           ],
           "sequential": [
            [
             0,
             "#0d0887"
            ],
            [
             0.1111111111111111,
             "#46039f"
            ],
            [
             0.2222222222222222,
             "#7201a8"
            ],
            [
             0.3333333333333333,
             "#9c179e"
            ],
            [
             0.4444444444444444,
             "#bd3786"
            ],
            [
             0.5555555555555556,
             "#d8576b"
            ],
            [
             0.6666666666666666,
             "#ed7953"
            ],
            [
             0.7777777777777778,
             "#fb9f3a"
            ],
            [
             0.8888888888888888,
             "#fdca26"
            ],
            [
             1,
             "#f0f921"
            ]
           ],
           "sequentialminus": [
            [
             0,
             "#0d0887"
            ],
            [
             0.1111111111111111,
             "#46039f"
            ],
            [
             0.2222222222222222,
             "#7201a8"
            ],
            [
             0.3333333333333333,
             "#9c179e"
            ],
            [
             0.4444444444444444,
             "#bd3786"
            ],
            [
             0.5555555555555556,
             "#d8576b"
            ],
            [
             0.6666666666666666,
             "#ed7953"
            ],
            [
             0.7777777777777778,
             "#fb9f3a"
            ],
            [
             0.8888888888888888,
             "#fdca26"
            ],
            [
             1,
             "#f0f921"
            ]
           ]
          },
          "colorway": [
           "#636efa",
           "#EF553B",
           "#00cc96",
           "#ab63fa",
           "#FFA15A",
           "#19d3f3",
           "#FF6692",
           "#B6E880",
           "#FF97FF",
           "#FECB52"
          ],
          "font": {
           "color": "#2a3f5f"
          },
          "geo": {
           "bgcolor": "white",
           "lakecolor": "white",
           "landcolor": "#E5ECF6",
           "showlakes": true,
           "showland": true,
           "subunitcolor": "white"
          },
          "hoverlabel": {
           "align": "left"
          },
          "hovermode": "closest",
          "mapbox": {
           "style": "light"
          },
          "paper_bgcolor": "white",
          "plot_bgcolor": "#E5ECF6",
          "polar": {
           "angularaxis": {
            "gridcolor": "white",
            "linecolor": "white",
            "ticks": ""
           },
           "bgcolor": "#E5ECF6",
           "radialaxis": {
            "gridcolor": "white",
            "linecolor": "white",
            "ticks": ""
           }
          },
          "scene": {
           "xaxis": {
            "backgroundcolor": "#E5ECF6",
            "gridcolor": "white",
            "gridwidth": 2,
            "linecolor": "white",
            "showbackground": true,
            "ticks": "",
            "zerolinecolor": "white"
           },
           "yaxis": {
            "backgroundcolor": "#E5ECF6",
            "gridcolor": "white",
            "gridwidth": 2,
            "linecolor": "white",
            "showbackground": true,
            "ticks": "",
            "zerolinecolor": "white"
           },
           "zaxis": {
            "backgroundcolor": "#E5ECF6",
            "gridcolor": "white",
            "gridwidth": 2,
            "linecolor": "white",
            "showbackground": true,
            "ticks": "",
            "zerolinecolor": "white"
           }
          },
          "shapedefaults": {
           "line": {
            "color": "#2a3f5f"
           }
          },
          "ternary": {
           "aaxis": {
            "gridcolor": "white",
            "linecolor": "white",
            "ticks": ""
           },
           "baxis": {
            "gridcolor": "white",
            "linecolor": "white",
            "ticks": ""
           },
           "bgcolor": "#E5ECF6",
           "caxis": {
            "gridcolor": "white",
            "linecolor": "white",
            "ticks": ""
           }
          },
          "title": {
           "x": 0.05
          },
          "xaxis": {
           "automargin": true,
           "gridcolor": "white",
           "linecolor": "white",
           "ticks": "",
           "title": {
            "standoff": 15
           },
           "zerolinecolor": "white",
           "zerolinewidth": 2
          },
          "yaxis": {
           "automargin": true,
           "gridcolor": "white",
           "linecolor": "white",
           "ticks": "",
           "title": {
            "standoff": 15
           },
           "zerolinecolor": "white",
           "zerolinewidth": 2
          }
         }
        },
        "width": 800
       }
      }
     },
     "metadata": {},
     "output_type": "display_data"
    }
   ],
   "source": [
    "new_feat = reduceDim(feat,method='PCA',dim = 20)\n",
    "d3_feat = reduceDim(feat,method='PCA',dim = 3)\n",
    "word_df = pd.DataFrame({\n",
    "    \"word\":sample_words,\n",
    "    \"color\":cluster(new_feat,n=4),\n",
    "    \"dim1\":d3_feat[:,0],\n",
    "    \"dim2\":d3_feat[:,1],\n",
    "    \"dim3\":d3_feat[:,2],\n",
    "\n",
    "})\n",
    "plotScatter3D(word_df)"
   ]
  },
  {
   "cell_type": "markdown",
   "metadata": {},
   "source": [
    "## 4. 建立bert-ch模型"
   ]
  },
  {
   "cell_type": "code",
   "execution_count": 64,
   "metadata": {},
   "outputs": [
    {
     "name": "stderr",
     "output_type": "stream",
     "text": [
      "/var/folders/2q/r2vqr_g50sz68tkjg_dd_1y40000gn/T/ipykernel_24324/852741673.py:2: SettingWithCopyWarning:\n",
      "\n",
      "\n",
      "A value is trying to be set on a copy of a slice from a DataFrame.\n",
      "Try using .loc[row_indexer,col_indexer] = value instead\n",
      "\n",
      "See the caveats in the documentation: https://pandas.pydata.org/pandas-docs/stable/user_guide/indexing.html#returning-a-view-versus-a-copy\n",
      "\n"
     ]
    },
    {
     "data": {
      "text/html": [
       "<div>\n",
       "<style scoped>\n",
       "    .dataframe tbody tr th:only-of-type {\n",
       "        vertical-align: middle;\n",
       "    }\n",
       "\n",
       "    .dataframe tbody tr th {\n",
       "        vertical-align: top;\n",
       "    }\n",
       "\n",
       "    .dataframe thead th {\n",
       "        text-align: right;\n",
       "    }\n",
       "</style>\n",
       "<table border=\"1\" class=\"dataframe\">\n",
       "  <thead>\n",
       "    <tr style=\"text-align: right;\">\n",
       "      <th></th>\n",
       "      <th>system_id</th>\n",
       "      <th>artTitle</th>\n",
       "      <th>artContent</th>\n",
       "    </tr>\n",
       "  </thead>\n",
       "  <tbody>\n",
       "    <tr>\n",
       "      <th>0</th>\n",
       "      <td>1</td>\n",
       "      <td>日圓一直貶值會怎樣？ 一張表曝光日本企業鮮為人知的營業利益貢獻</td>\n",
       "      <td>最近筆者常被詢問對於一檔即將募集的日本龍頭企業基金的看法這些朋友大多有閒錢約幾十萬又聽業務員...</td>\n",
       "    </tr>\n",
       "    <tr>\n",
       "      <th>1</th>\n",
       "      <td>2</td>\n",
       "      <td>碳權交易所營運勢將再加速綠領人才需求 十年成長6.5倍</td>\n",
       "      <td>台灣碳權交易所今日正式營運加速帶動相關人才需求綠領新貴勢將成為就業市場當紅炸子雞根據人力銀行...</td>\n",
       "    </tr>\n",
       "    <tr>\n",
       "      <th>2</th>\n",
       "      <td>3</td>\n",
       "      <td>台灣碳權交易所揭牌 蔡總統：整體創造5.9兆元產值</td>\n",
       "      <td>台灣碳權交易所今天正式揭牌總統蔡英文說從年到年淨零碳排整體努力預計帶動兆元以上民間投資創造兆...</td>\n",
       "    </tr>\n",
       "    <tr>\n",
       "      <th>3</th>\n",
       "      <td>4</td>\n",
       "      <td>台灣碳權交易所揭牌 蔡總統：持續協助企業面對淨零轉型</td>\n",
       "      <td>蔡總統今日前往高雄出席台灣碳權交易所開幕揭牌典禮時指出碳權交易所的設置能讓台灣跟上國際淨零轉...</td>\n",
       "    </tr>\n",
       "    <tr>\n",
       "      <th>4</th>\n",
       "      <td>5</td>\n",
       "      <td>產業力拚碳中和 業者：法規限制為減碳最大挑戰</td>\n",
       "      <td>台灣碳權交易所今天揭牌國內傳統產業碳排大戶靜待相關子法出爐期盼透過碳權買賣協助企業達標碳中和...</td>\n",
       "    </tr>\n",
       "  </tbody>\n",
       "</table>\n",
       "</div>"
      ],
      "text/plain": [
       "   system_id                         artTitle  \\\n",
       "0          1  日圓一直貶值會怎樣？ 一張表曝光日本企業鮮為人知的營業利益貢獻   \n",
       "1          2      碳權交易所營運勢將再加速綠領人才需求 十年成長6.5倍   \n",
       "2          3        台灣碳權交易所揭牌 蔡總統：整體創造5.9兆元產值   \n",
       "3          4       台灣碳權交易所揭牌 蔡總統：持續協助企業面對淨零轉型   \n",
       "4          5           產業力拚碳中和 業者：法規限制為減碳最大挑戰   \n",
       "\n",
       "                                          artContent  \n",
       "0  最近筆者常被詢問對於一檔即將募集的日本龍頭企業基金的看法這些朋友大多有閒錢約幾十萬又聽業務員...  \n",
       "1  台灣碳權交易所今日正式營運加速帶動相關人才需求綠領新貴勢將成為就業市場當紅炸子雞根據人力銀行...  \n",
       "2  台灣碳權交易所今天正式揭牌總統蔡英文說從年到年淨零碳排整體努力預計帶動兆元以上民間投資創造兆...  \n",
       "3  蔡總統今日前往高雄出席台灣碳權交易所開幕揭牌典禮時指出碳權交易所的設置能讓台灣跟上國際淨零轉...  \n",
       "4  台灣碳權交易所今天揭牌國內傳統產業碳排大戶靜待相關子法出爐期盼透過碳權買賣協助企業達標碳中和...  "
      ]
     },
     "execution_count": 64,
     "metadata": {},
     "output_type": "execute_result"
    }
   ],
   "source": [
    "df_similar = origin_data[['system_id','artTitle', 'artContent']]\n",
    "df_similar['artContent'] = df_similar['artContent'].apply(lambda x: re.sub('[^\\u4e00-\\u9fff]+', '',x))\n",
    "\n",
    "df_similar.head(5)"
   ]
  },
  {
   "cell_type": "code",
   "execution_count": 65,
   "metadata": {},
   "outputs": [
    {
     "name": "stderr",
     "output_type": "stream",
     "text": [
      "No sentence-transformers model found with name google-bert/bert-base-chinese. Creating a new one with MEAN pooling.\n",
      "/opt/anaconda3/envs/python38/lib/python3.8/site-packages/huggingface_hub/file_download.py:1132: FutureWarning:\n",
      "\n",
      "`resume_download` is deprecated and will be removed in version 1.0.0. Downloads always resume when possible. If you want to force a new download, use `force_download=True`.\n",
      "\n"
     ]
    },
    {
     "data": {
      "text/plain": [
       "0"
      ]
     },
     "execution_count": 65,
     "metadata": {},
     "output_type": "execute_result"
    }
   ],
   "source": [
    "# 中文 bert-base-chinese\n",
    "bert_ch = SentenceTransformer('google-bert/bert-base-chinese')\n",
    "\n",
    "bert_ch.tokenizer.add_special_tokens({'pad_token': '[PAD]'})"
   ]
  },
  {
   "cell_type": "markdown",
   "metadata": {},
   "source": [
    "### 4-1. 透過Bert-ch做embedding並尋找相似的文章"
   ]
  },
  {
   "cell_type": "code",
   "execution_count": 66,
   "metadata": {},
   "outputs": [
    {
     "name": "stdout",
     "output_type": "stream",
     "text": [
      "\n",
      "\n",
      "======================\n",
      "\n",
      "\n",
      "Query: 允能與海能風場挨罰 債權銀行：努力讓案子完成\n",
      "\n",
      " 資料集中前五相似的文章:\n",
      "允能與海能風場挨罰 債權銀行：努力讓案子完成 (Score: 1.0000)\n",
      "允能、海能風場進度落後 挨罰 (Score: 0.9882)\n",
      "離岸風電3-2期10日截標 台亞不玩了 (Score: 0.9861)\n",
      "中信銀看好國產化降風電成本 主辦風電聯貸已逾3千億 (Score: 0.9859)\n",
      "一期離岸風機一直壞 台電：契約有要求廠商負責維運 (Score: 0.9858)\n",
      "\n",
      "\n",
      "======================\n",
      "\n",
      "\n"
     ]
    }
   ],
   "source": [
    "corpus_embeddings = bert_ch.encode(df_similar['artContent'], convert_to_tensor=True)\n",
    "\n",
    "query_num = 6 # 指定文章\n",
    "\n",
    "# Find the closest 5 sentences of the corpus for each query sentence based on cosine similarity\n",
    "top_k = 5\n",
    "\n",
    "\n",
    "query_embedding = bert_ch.encode(df_similar['artContent'][query_num], convert_to_tensor=True)\n",
    "\n",
    "# We use cosine-similarity and torch.topk to find the highest 5 scores\n",
    "cos_scores = util.cos_sim(query_embedding, corpus_embeddings)[0]\n",
    "top_results = torch.topk(cos_scores, k=top_k)\n",
    "\n",
    "print(\"\\n\\n======================\\n\\n\")\n",
    "print(\"Query:\", df_similar['artTitle'][query_num])\n",
    "print(\"\\n 資料集中前五相似的文章:\")\n",
    "\n",
    "for score, idx in zip(top_results[0], top_results[1]):\n",
    "    print(df_similar['artTitle'][idx.item()], \"(Score: {:.4f})\".format(score))\n",
    "\n",
    "print(\"\\n\\n======================\\n\\n\")"
   ]
  },
  {
   "cell_type": "code",
   "execution_count": 35,
   "metadata": {},
   "outputs": [
    {
     "name": "stdout",
     "output_type": "stream",
     "text": [
      "\n",
      "\n",
      "======================\n",
      "\n",
      "\n",
      "Query: 確保「有船可用」 台亞風能與星國船商Cyan簽訂MOU\n",
      "\n",
      " 資料集中前五相似的文章:\n",
      "確保「有船可用」 台亞風能與星國船商Cyan簽訂MOU (Score: 1.0000)\n",
      "貝富新能源與台大簽署MOU 聚焦人才培育及技術研發 (Score: 0.9900)\n",
      "本土海事工程崛起 東方風能統包台澎金馬四號海纜建置 (Score: 0.9886)\n",
      "安捷航空攜手歐洲直升機大廠 台灣離岸風電添新戰力 (Score: 0.9880)\n",
      "太古與天力簽署 MOU 在台灣提供離岸風電解決方案 (Score: 0.9878)\n",
      "\n",
      "\n",
      "======================\n",
      "\n",
      "\n"
     ]
    }
   ],
   "source": [
    "query_num = 31\n",
    "\n",
    "query_embedding = bert_ch.encode(df_similar['artContent'][query_num], convert_to_tensor=True)\n",
    "\n",
    "# We use cosine-similarity and torch.topk to find the highest 5 scores\n",
    "cos_scores = util.cos_sim(query_embedding, corpus_embeddings)[0]\n",
    "top_results = torch.topk(cos_scores, k=top_k)\n",
    "\n",
    "print(\"\\n\\n======================\\n\\n\")\n",
    "print(\"Query:\", df_similar['artTitle'][query_num])\n",
    "print(\"\\n 資料集中前五相似的文章:\")\n",
    "\n",
    "for score, idx in zip(top_results[0], top_results[1]):\n",
    "    print(df_similar['artTitle'][idx.item()], \"(Score: {:.4f})\".format(score))\n",
    "\n",
    "print(\"\\n\\n======================\\n\\n\")"
   ]
  },
  {
   "cell_type": "markdown",
   "metadata": {},
   "source": [
    "## 5. 透過llama-3-7b做embedding試試效果"
   ]
  },
  {
   "cell_type": "code",
   "execution_count": 36,
   "metadata": {},
   "outputs": [
    {
     "data": {
      "application/vnd.jupyter.widget-view+json": {
       "model_id": "6e43f280bd7f40b8865c36b606adb86c",
       "version_major": 2,
       "version_minor": 0
      },
      "text/plain": [
       "VBox(children=(HTML(value='<center> <img\\nsrc=https://huggingface.co/front/assets/huggingface_logo-noborder.sv…"
      ]
     },
     "metadata": {},
     "output_type": "display_data"
    },
    {
     "name": "stderr",
     "output_type": "stream",
     "text": [
      "huggingface/tokenizers: The current process just got forked, after parallelism has already been used. Disabling parallelism to avoid deadlocks...\n",
      "To disable this warning, you can either:\n",
      "\t- Avoid using `tokenizers` before the fork if possible\n",
      "\t- Explicitly set the environment variable TOKENIZERS_PARALLELISM=(true | false)\n",
      "huggingface/tokenizers: The current process just got forked, after parallelism has already been used. Disabling parallelism to avoid deadlocks...\n",
      "To disable this warning, you can either:\n",
      "\t- Avoid using `tokenizers` before the fork if possible\n",
      "\t- Explicitly set the environment variable TOKENIZERS_PARALLELISM=(true | false)\n",
      "huggingface/tokenizers: The current process just got forked, after parallelism has already been used. Disabling parallelism to avoid deadlocks...\n",
      "To disable this warning, you can either:\n",
      "\t- Avoid using `tokenizers` before the fork if possible\n",
      "\t- Explicitly set the environment variable TOKENIZERS_PARALLELISM=(true | false)\n"
     ]
    }
   ],
   "source": [
    "from huggingface_hub import notebook_login\n",
    "notebook_login() # 輸入Hugging Face 帳號的Token"
   ]
  },
  {
   "cell_type": "code",
   "execution_count": 39,
   "metadata": {},
   "outputs": [
    {
     "ename": "NameError",
     "evalue": "name 'parser' is not defined",
     "output_type": "error",
     "traceback": [
      "\u001b[0;31m---------------------------------------------------------------------------\u001b[0m",
      "\u001b[0;31mNameError\u001b[0m                                 Traceback (most recent call last)",
      "Cell \u001b[0;32mIn[39], line 3\u001b[0m\n\u001b[1;32m      1\u001b[0m \u001b[38;5;28mprint\u001b[39m(torch\u001b[38;5;241m.\u001b[39mbackends\u001b[38;5;241m.\u001b[39mmps\u001b[38;5;241m.\u001b[39mis_available())\n\u001b[1;32m      2\u001b[0m \u001b[38;5;28mprint\u001b[39m(torch\u001b[38;5;241m.\u001b[39mbackends\u001b[38;5;241m.\u001b[39mmps\u001b[38;5;241m.\u001b[39mis_built())\n\u001b[0;32m----> 3\u001b[0m \u001b[43mparser\u001b[49m\u001b[38;5;241m.\u001b[39madd_argument(\u001b[38;5;124m'\u001b[39m\u001b[38;5;124m--device\u001b[39m\u001b[38;5;124m'\u001b[39m, \u001b[38;5;28mtype\u001b[39m\u001b[38;5;241m=\u001b[39m\u001b[38;5;28mint\u001b[39m, default\u001b[38;5;241m=\u001b[39m\u001b[38;5;241m0\u001b[39m)\n\u001b[1;32m      4\u001b[0m parser\u001b[38;5;241m.\u001b[39madd_argument(\u001b[38;5;124m'\u001b[39m\u001b[38;5;124m--use_gpu\u001b[39m\u001b[38;5;124m'\u001b[39m,default\u001b[38;5;241m=\u001b[39m\u001b[38;5;28;01mFalse\u001b[39;00m,action\u001b[38;5;241m=\u001b[39m\u001b[38;5;124m'\u001b[39m\u001b[38;5;124mstore_true\u001b[39m\u001b[38;5;124m'\u001b[39m)\n\u001b[1;32m      6\u001b[0m use_gpu \u001b[38;5;241m=\u001b[39m args\u001b[38;5;241m.\u001b[39muse_gpu\n",
      "\u001b[0;31mNameError\u001b[0m: name 'parser' is not defined"
     ]
    }
   ],
   "source": [
    "print(torch.backends.mps.is_available())\n",
    "print(torch.backends.mps.is_built())\n",
    "parser.add_argument('--device', type=int, default=0)\n",
    "parser.add_argument('--use_gpu',default=False,action='store_true')\n",
    "\n",
    "use_gpu = args.use_gpu\n",
    "device = torch.device(\"mps\" if args.use_gpu else \"cpu\")"
   ]
  },
  {
   "cell_type": "code",
   "execution_count": 38,
   "metadata": {},
   "outputs": [
    {
     "name": "stderr",
     "output_type": "stream",
     "text": [
      "No sentence-transformers model found with name meta-llama/Llama-2-7b-hf. Creating a new one with MEAN pooling.\n",
      "/opt/anaconda3/envs/python38/lib/python3.8/site-packages/huggingface_hub/file_download.py:1132: FutureWarning:\n",
      "\n",
      "`resume_download` is deprecated and will be removed in version 1.0.0. Downloads always resume when possible. If you want to force a new download, use `force_download=True`.\n",
      "\n"
     ]
    },
    {
     "data": {
      "application/vnd.jupyter.widget-view+json": {
       "model_id": "b459dc26ec8a49c9a7e767352b5575c0",
       "version_major": 2,
       "version_minor": 0
      },
      "text/plain": [
       "Loading checkpoint shards:   0%|          | 0/2 [00:00<?, ?it/s]"
      ]
     },
     "metadata": {},
     "output_type": "display_data"
    },
    {
     "ename": "RuntimeError",
     "evalue": "MPS backend out of memory (MPS allocated: 18.07 GB, other allocations: 736.00 KB, max allowed: 18.13 GB). Tried to allocate 172.00 MB on private pool. Use PYTORCH_MPS_HIGH_WATERMARK_RATIO=0.0 to disable upper limit for memory allocations (may cause system failure).",
     "output_type": "error",
     "traceback": [
      "\u001b[0;31m---------------------------------------------------------------------------\u001b[0m",
      "\u001b[0;31mRuntimeError\u001b[0m                              Traceback (most recent call last)",
      "Cell \u001b[0;32mIn[38], line 1\u001b[0m\n\u001b[0;32m----> 1\u001b[0m model_llama \u001b[38;5;241m=\u001b[39m \u001b[43mSentenceTransformer\u001b[49m\u001b[43m(\u001b[49m\u001b[38;5;124;43m'\u001b[39;49m\u001b[38;5;124;43mmeta-llama/Llama-2-7b-hf\u001b[39;49m\u001b[38;5;124;43m'\u001b[39;49m\u001b[43m)\u001b[49m\u001b[38;5;241m.\u001b[39mto(device)\n\u001b[1;32m      2\u001b[0m model_llama\u001b[38;5;241m.\u001b[39mtokenizer\u001b[38;5;241m.\u001b[39mpad_token \u001b[38;5;241m=\u001b[39m model_llama\u001b[38;5;241m.\u001b[39mtokenizer\u001b[38;5;241m.\u001b[39meos_token\n",
      "File \u001b[0;32m/opt/anaconda3/envs/python38/lib/python3.8/site-packages/sentence_transformers/SentenceTransformer.py:221\u001b[0m, in \u001b[0;36mSentenceTransformer.__init__\u001b[0;34m(self, model_name_or_path, modules, device, prompts, default_prompt_name, cache_folder, trust_remote_code, revision, token, use_auth_token, truncate_dim)\u001b[0m\n\u001b[1;32m    218\u001b[0m     device \u001b[38;5;241m=\u001b[39m get_device_name()\n\u001b[1;32m    219\u001b[0m     logger\u001b[38;5;241m.\u001b[39minfo(\u001b[38;5;124m\"\u001b[39m\u001b[38;5;124mUse pytorch device_name: \u001b[39m\u001b[38;5;132;01m{}\u001b[39;00m\u001b[38;5;124m\"\u001b[39m\u001b[38;5;241m.\u001b[39mformat(device))\n\u001b[0;32m--> 221\u001b[0m \u001b[38;5;28;43mself\u001b[39;49m\u001b[38;5;241;43m.\u001b[39;49m\u001b[43mto\u001b[49m\u001b[43m(\u001b[49m\u001b[43mdevice\u001b[49m\u001b[43m)\u001b[49m\n\u001b[1;32m    222\u001b[0m \u001b[38;5;28mself\u001b[39m\u001b[38;5;241m.\u001b[39mis_hpu_graph_enabled \u001b[38;5;241m=\u001b[39m \u001b[38;5;28;01mFalse\u001b[39;00m\n\u001b[1;32m    224\u001b[0m \u001b[38;5;28;01mif\u001b[39;00m \u001b[38;5;28mself\u001b[39m\u001b[38;5;241m.\u001b[39mdefault_prompt_name \u001b[38;5;129;01mis\u001b[39;00m \u001b[38;5;129;01mnot\u001b[39;00m \u001b[38;5;28;01mNone\u001b[39;00m \u001b[38;5;129;01mand\u001b[39;00m \u001b[38;5;28mself\u001b[39m\u001b[38;5;241m.\u001b[39mdefault_prompt_name \u001b[38;5;129;01mnot\u001b[39;00m \u001b[38;5;129;01min\u001b[39;00m \u001b[38;5;28mself\u001b[39m\u001b[38;5;241m.\u001b[39mprompts:\n",
      "File \u001b[0;32m/opt/anaconda3/envs/python38/lib/python3.8/site-packages/torch/nn/modules/module.py:1173\u001b[0m, in \u001b[0;36mModule.to\u001b[0;34m(self, *args, **kwargs)\u001b[0m\n\u001b[1;32m   1170\u001b[0m         \u001b[38;5;28;01melse\u001b[39;00m:\n\u001b[1;32m   1171\u001b[0m             \u001b[38;5;28;01mraise\u001b[39;00m\n\u001b[0;32m-> 1173\u001b[0m \u001b[38;5;28;01mreturn\u001b[39;00m \u001b[38;5;28;43mself\u001b[39;49m\u001b[38;5;241;43m.\u001b[39;49m\u001b[43m_apply\u001b[49m\u001b[43m(\u001b[49m\u001b[43mconvert\u001b[49m\u001b[43m)\u001b[49m\n",
      "File \u001b[0;32m/opt/anaconda3/envs/python38/lib/python3.8/site-packages/torch/nn/modules/module.py:779\u001b[0m, in \u001b[0;36mModule._apply\u001b[0;34m(self, fn, recurse)\u001b[0m\n\u001b[1;32m    777\u001b[0m \u001b[38;5;28;01mif\u001b[39;00m recurse:\n\u001b[1;32m    778\u001b[0m     \u001b[38;5;28;01mfor\u001b[39;00m module \u001b[38;5;129;01min\u001b[39;00m \u001b[38;5;28mself\u001b[39m\u001b[38;5;241m.\u001b[39mchildren():\n\u001b[0;32m--> 779\u001b[0m         \u001b[43mmodule\u001b[49m\u001b[38;5;241;43m.\u001b[39;49m\u001b[43m_apply\u001b[49m\u001b[43m(\u001b[49m\u001b[43mfn\u001b[49m\u001b[43m)\u001b[49m\n\u001b[1;32m    781\u001b[0m \u001b[38;5;28;01mdef\u001b[39;00m \u001b[38;5;21mcompute_should_use_set_data\u001b[39m(tensor, tensor_applied):\n\u001b[1;32m    782\u001b[0m     \u001b[38;5;28;01mif\u001b[39;00m torch\u001b[38;5;241m.\u001b[39m_has_compatible_shallow_copy_type(tensor, tensor_applied):\n\u001b[1;32m    783\u001b[0m         \u001b[38;5;66;03m# If the new tensor has compatible tensor type as the existing tensor,\u001b[39;00m\n\u001b[1;32m    784\u001b[0m         \u001b[38;5;66;03m# the current behavior is to change the tensor in-place using `.data =`,\u001b[39;00m\n\u001b[0;32m   (...)\u001b[0m\n\u001b[1;32m    789\u001b[0m         \u001b[38;5;66;03m# global flag to let the user control whether they want the future\u001b[39;00m\n\u001b[1;32m    790\u001b[0m         \u001b[38;5;66;03m# behavior of overwriting the existing tensor or not.\u001b[39;00m\n",
      "File \u001b[0;32m/opt/anaconda3/envs/python38/lib/python3.8/site-packages/torch/nn/modules/module.py:779\u001b[0m, in \u001b[0;36mModule._apply\u001b[0;34m(self, fn, recurse)\u001b[0m\n\u001b[1;32m    777\u001b[0m \u001b[38;5;28;01mif\u001b[39;00m recurse:\n\u001b[1;32m    778\u001b[0m     \u001b[38;5;28;01mfor\u001b[39;00m module \u001b[38;5;129;01min\u001b[39;00m \u001b[38;5;28mself\u001b[39m\u001b[38;5;241m.\u001b[39mchildren():\n\u001b[0;32m--> 779\u001b[0m         \u001b[43mmodule\u001b[49m\u001b[38;5;241;43m.\u001b[39;49m\u001b[43m_apply\u001b[49m\u001b[43m(\u001b[49m\u001b[43mfn\u001b[49m\u001b[43m)\u001b[49m\n\u001b[1;32m    781\u001b[0m \u001b[38;5;28;01mdef\u001b[39;00m \u001b[38;5;21mcompute_should_use_set_data\u001b[39m(tensor, tensor_applied):\n\u001b[1;32m    782\u001b[0m     \u001b[38;5;28;01mif\u001b[39;00m torch\u001b[38;5;241m.\u001b[39m_has_compatible_shallow_copy_type(tensor, tensor_applied):\n\u001b[1;32m    783\u001b[0m         \u001b[38;5;66;03m# If the new tensor has compatible tensor type as the existing tensor,\u001b[39;00m\n\u001b[1;32m    784\u001b[0m         \u001b[38;5;66;03m# the current behavior is to change the tensor in-place using `.data =`,\u001b[39;00m\n\u001b[0;32m   (...)\u001b[0m\n\u001b[1;32m    789\u001b[0m         \u001b[38;5;66;03m# global flag to let the user control whether they want the future\u001b[39;00m\n\u001b[1;32m    790\u001b[0m         \u001b[38;5;66;03m# behavior of overwriting the existing tensor or not.\u001b[39;00m\n",
      "    \u001b[0;31m[... skipping similar frames: Module._apply at line 779 (3 times)]\u001b[0m\n",
      "File \u001b[0;32m/opt/anaconda3/envs/python38/lib/python3.8/site-packages/torch/nn/modules/module.py:779\u001b[0m, in \u001b[0;36mModule._apply\u001b[0;34m(self, fn, recurse)\u001b[0m\n\u001b[1;32m    777\u001b[0m \u001b[38;5;28;01mif\u001b[39;00m recurse:\n\u001b[1;32m    778\u001b[0m     \u001b[38;5;28;01mfor\u001b[39;00m module \u001b[38;5;129;01min\u001b[39;00m \u001b[38;5;28mself\u001b[39m\u001b[38;5;241m.\u001b[39mchildren():\n\u001b[0;32m--> 779\u001b[0m         \u001b[43mmodule\u001b[49m\u001b[38;5;241;43m.\u001b[39;49m\u001b[43m_apply\u001b[49m\u001b[43m(\u001b[49m\u001b[43mfn\u001b[49m\u001b[43m)\u001b[49m\n\u001b[1;32m    781\u001b[0m \u001b[38;5;28;01mdef\u001b[39;00m \u001b[38;5;21mcompute_should_use_set_data\u001b[39m(tensor, tensor_applied):\n\u001b[1;32m    782\u001b[0m     \u001b[38;5;28;01mif\u001b[39;00m torch\u001b[38;5;241m.\u001b[39m_has_compatible_shallow_copy_type(tensor, tensor_applied):\n\u001b[1;32m    783\u001b[0m         \u001b[38;5;66;03m# If the new tensor has compatible tensor type as the existing tensor,\u001b[39;00m\n\u001b[1;32m    784\u001b[0m         \u001b[38;5;66;03m# the current behavior is to change the tensor in-place using `.data =`,\u001b[39;00m\n\u001b[0;32m   (...)\u001b[0m\n\u001b[1;32m    789\u001b[0m         \u001b[38;5;66;03m# global flag to let the user control whether they want the future\u001b[39;00m\n\u001b[1;32m    790\u001b[0m         \u001b[38;5;66;03m# behavior of overwriting the existing tensor or not.\u001b[39;00m\n",
      "File \u001b[0;32m/opt/anaconda3/envs/python38/lib/python3.8/site-packages/torch/nn/modules/module.py:804\u001b[0m, in \u001b[0;36mModule._apply\u001b[0;34m(self, fn, recurse)\u001b[0m\n\u001b[1;32m    800\u001b[0m \u001b[38;5;66;03m# Tensors stored in modules are graph leaves, and we don't want to\u001b[39;00m\n\u001b[1;32m    801\u001b[0m \u001b[38;5;66;03m# track autograd history of `param_applied`, so we have to use\u001b[39;00m\n\u001b[1;32m    802\u001b[0m \u001b[38;5;66;03m# `with torch.no_grad():`\u001b[39;00m\n\u001b[1;32m    803\u001b[0m \u001b[38;5;28;01mwith\u001b[39;00m torch\u001b[38;5;241m.\u001b[39mno_grad():\n\u001b[0;32m--> 804\u001b[0m     param_applied \u001b[38;5;241m=\u001b[39m \u001b[43mfn\u001b[49m\u001b[43m(\u001b[49m\u001b[43mparam\u001b[49m\u001b[43m)\u001b[49m\n\u001b[1;32m    805\u001b[0m p_should_use_set_data \u001b[38;5;241m=\u001b[39m compute_should_use_set_data(param, param_applied)\n\u001b[1;32m    807\u001b[0m \u001b[38;5;66;03m# subclasses may have multiple child tensors so we need to use swap_tensors\u001b[39;00m\n",
      "File \u001b[0;32m/opt/anaconda3/envs/python38/lib/python3.8/site-packages/torch/nn/modules/module.py:1159\u001b[0m, in \u001b[0;36mModule.to.<locals>.convert\u001b[0;34m(t)\u001b[0m\n\u001b[1;32m   1152\u001b[0m     \u001b[38;5;28;01mif\u001b[39;00m convert_to_format \u001b[38;5;129;01mis\u001b[39;00m \u001b[38;5;129;01mnot\u001b[39;00m \u001b[38;5;28;01mNone\u001b[39;00m \u001b[38;5;129;01mand\u001b[39;00m t\u001b[38;5;241m.\u001b[39mdim() \u001b[38;5;129;01min\u001b[39;00m (\u001b[38;5;241m4\u001b[39m, \u001b[38;5;241m5\u001b[39m):\n\u001b[1;32m   1153\u001b[0m         \u001b[38;5;28;01mreturn\u001b[39;00m t\u001b[38;5;241m.\u001b[39mto(\n\u001b[1;32m   1154\u001b[0m             device,\n\u001b[1;32m   1155\u001b[0m             dtype \u001b[38;5;28;01mif\u001b[39;00m t\u001b[38;5;241m.\u001b[39mis_floating_point() \u001b[38;5;129;01mor\u001b[39;00m t\u001b[38;5;241m.\u001b[39mis_complex() \u001b[38;5;28;01melse\u001b[39;00m \u001b[38;5;28;01mNone\u001b[39;00m,\n\u001b[1;32m   1156\u001b[0m             non_blocking,\n\u001b[1;32m   1157\u001b[0m             memory_format\u001b[38;5;241m=\u001b[39mconvert_to_format,\n\u001b[1;32m   1158\u001b[0m         )\n\u001b[0;32m-> 1159\u001b[0m     \u001b[38;5;28;01mreturn\u001b[39;00m \u001b[43mt\u001b[49m\u001b[38;5;241;43m.\u001b[39;49m\u001b[43mto\u001b[49m\u001b[43m(\u001b[49m\n\u001b[1;32m   1160\u001b[0m \u001b[43m        \u001b[49m\u001b[43mdevice\u001b[49m\u001b[43m,\u001b[49m\n\u001b[1;32m   1161\u001b[0m \u001b[43m        \u001b[49m\u001b[43mdtype\u001b[49m\u001b[43m \u001b[49m\u001b[38;5;28;43;01mif\u001b[39;49;00m\u001b[43m \u001b[49m\u001b[43mt\u001b[49m\u001b[38;5;241;43m.\u001b[39;49m\u001b[43mis_floating_point\u001b[49m\u001b[43m(\u001b[49m\u001b[43m)\u001b[49m\u001b[43m \u001b[49m\u001b[38;5;129;43;01mor\u001b[39;49;00m\u001b[43m \u001b[49m\u001b[43mt\u001b[49m\u001b[38;5;241;43m.\u001b[39;49m\u001b[43mis_complex\u001b[49m\u001b[43m(\u001b[49m\u001b[43m)\u001b[49m\u001b[43m \u001b[49m\u001b[38;5;28;43;01melse\u001b[39;49;00m\u001b[43m \u001b[49m\u001b[38;5;28;43;01mNone\u001b[39;49;00m\u001b[43m,\u001b[49m\n\u001b[1;32m   1162\u001b[0m \u001b[43m        \u001b[49m\u001b[43mnon_blocking\u001b[49m\u001b[43m,\u001b[49m\n\u001b[1;32m   1163\u001b[0m \u001b[43m    \u001b[49m\u001b[43m)\u001b[49m\n\u001b[1;32m   1164\u001b[0m \u001b[38;5;28;01mexcept\u001b[39;00m \u001b[38;5;167;01mNotImplementedError\u001b[39;00m \u001b[38;5;28;01mas\u001b[39;00m e:\n\u001b[1;32m   1165\u001b[0m     \u001b[38;5;28;01mif\u001b[39;00m \u001b[38;5;28mstr\u001b[39m(e) \u001b[38;5;241m==\u001b[39m \u001b[38;5;124m\"\u001b[39m\u001b[38;5;124mCannot copy out of meta tensor; no data!\u001b[39m\u001b[38;5;124m\"\u001b[39m:\n",
      "\u001b[0;31mRuntimeError\u001b[0m: MPS backend out of memory (MPS allocated: 18.07 GB, other allocations: 736.00 KB, max allowed: 18.13 GB). Tried to allocate 172.00 MB on private pool. Use PYTORCH_MPS_HIGH_WATERMARK_RATIO=0.0 to disable upper limit for memory allocations (may cause system failure)."
     ]
    }
   ],
   "source": [
    "model_llama = SentenceTransformer('meta-llama/Llama-2-7b-hf').to(device)\n",
    "model_llama.tokenizer.pad_token = model_llama.tokenizer.eos_token"
   ]
  },
  {
   "cell_type": "code",
   "execution_count": null,
   "metadata": {},
   "outputs": [],
   "source": [
    "query_num = 31\n",
    "\n",
    "# 定義函式以將文章內容轉換為嵌入向量\n",
    "def get_embedding_llama(text, model):\n",
    "    return model.encode(text)\n",
    "\n",
    "# 創建一個空的列表來存儲所有文章的嵌入向量\n",
    "corpus_embeddings = []\n",
    "\n",
    "# 將每個文章的內容轉換為嵌入向量並添加到列表中\n",
    "for content in df_similar['artContent']:\n",
    "    embedding = get_embedding_llama(content, model_llama)\n",
    "    corpus_embeddings.append(embedding)\n",
    "\n",
    "# 將列表轉換為 PyTorch 張量\n",
    "corpus_embeddings = torch.stack(corpus_embeddings)\n",
    "\n",
    "# 轉換查詢文章的內容為嵌入向量\n",
    "query_embedding = get_embedding_llama(df_similar['artContent'][query_num], model_llama)\n",
    "\n",
    "# 使用余弦相似度計算查詢文章與每個文章的相似度\n",
    "cos_scores = util.cos_sim(query_embedding, corpus_embeddings)[0]\n",
    "\n",
    "# 找到相似度最高的前五個文章\n",
    "top_results = torch.topk(cos_scores, k=top_k)\n",
    "\n",
    "# 印出相似度最高的前五篇文章\n",
    "print(\"\\n\\n======================\\n\\n\")\n",
    "print(\"Query:\", df_similar['artTitle'][query_num])\n",
    "print(\"\\n 資料集中前五相似的文章:\")\n",
    "\n",
    "for score, idx in zip(top_results[0], top_results[1]):\n",
    "    print(df_similar['artTitle'][idx.item()], \"(Score: {:.4f})\".format(score))\n",
    "\n",
    "print(\"\\n\\n======================\\n\\n\")"
   ]
  }
 ],
 "metadata": {
  "kernelspec": {
   "display_name": "python38",
   "language": "python",
   "name": "python3"
  },
  "language_info": {
   "codemirror_mode": {
    "name": "ipython",
    "version": 3
   },
   "file_extension": ".py",
   "mimetype": "text/x-python",
   "name": "python",
   "nbconvert_exporter": "python",
   "pygments_lexer": "ipython3",
   "version": "3.8.18"
  }
 },
 "nbformat": 4,
 "nbformat_minor": 2
}
